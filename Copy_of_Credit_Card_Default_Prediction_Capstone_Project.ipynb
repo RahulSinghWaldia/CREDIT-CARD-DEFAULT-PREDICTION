{
  "nbformat": 4,
  "nbformat_minor": 0,
  "metadata": {
    "kernelspec": {
      "display_name": "Python 3",
      "language": "python",
      "name": "python3"
    },
    "language_info": {
      "codemirror_mode": {
        "name": "ipython",
        "version": 3
      },
      "file_extension": ".py",
      "mimetype": "text/x-python",
      "name": "python",
      "nbconvert_exporter": "python",
      "pygments_lexer": "ipython3",
      "version": "3.6.6"
    },
    "colab": {
      "name": "Copy of Credit Card Default Prediction - Capstone Project.ipynb",
      "provenance": [],
      "collapsed_sections": [],
      "include_colab_link": true
    }
  },
  "cells": [
    {
      "cell_type": "markdown",
      "metadata": {
        "id": "view-in-github",
        "colab_type": "text"
      },
      "source": [
        "<a href=\"https://colab.research.google.com/github/RahulSinghWaldia/CREDIT-CARD-DEFAULT-PREDICTION/blob/main/Copy_of_Credit_Card_Default_Prediction_Capstone_Project.ipynb\" target=\"_parent\"><img src=\"https://colab.research.google.com/assets/colab-badge.svg\" alt=\"Open In Colab\"/></a>"
      ]
    },
    {
      "cell_type": "markdown",
      "metadata": {
        "id": "tOGC-qoyhJeX"
      },
      "source": [
        "# <b><u> Project Title : Predicting whether a customer will default on his/her credit card </u></b>"
      ]
    },
    {
      "cell_type": "markdown",
      "metadata": {
        "id": "Y06xIdG26kRF"
      },
      "source": [
        "## <b> Problem Description </b>\n",
        "\n",
        "### This project is aimed at predicting the case of customers default payments in Taiwan. From the perspective of risk management, the result of predictive accuracy of the estimated probability of default will be more valuable than the binary result of classification - credible or not credible clients. We can use the [K-S chart](https://www.listendata.com/2019/07/KS-Statistics-Python.html) to evaluate which customers will default on their credit card payments\n"
      ]
    },
    {
      "cell_type": "markdown",
      "metadata": {
        "id": "AlLxAtlziMbP"
      },
      "source": [
        "## <b> Data Description </b>\n",
        "\n",
        "### <b>Attribute Information: </b>\n",
        "\n",
        "### This research employed a binary variable, default payment (Yes = 1, No = 0), as the response variable. This study reviewed the literature and used the following 23 variables as explanatory variables:\n",
        "* ### X1: Amount of the given credit (NT dollar): it includes both the individual consumer credit and his/her family (supplementary) credit.\n",
        "* ### X2: Gender (1 = male; 2 = female).\n",
        "* ### X3: Education (1 = graduate school; 2 = university; 3 = high school; 4 = others).\n",
        "* ### X4: Marital status (1 = married; 2 = single; 3 = others).\n",
        "* ### X5: Age (year).\n",
        "* ### X6 - X11: History of past payment. We tracked the past monthly payment records (from April to September, 2005) as follows: X6 = the repayment status in September, 2005; X7 = the repayment status in August, 2005; . . .;X11 = the repayment status in April, 2005. The measurement scale for the repayment status is: -1 = pay duly; 1 = payment delay for one month; 2 = payment delay for two months; . . .; 8 = payment delay for eight months; 9 = payment delay for nine months and above.\n",
        "* ### X12-X17: Amount of bill statement (NT dollar). X12 = amount of bill statement in September, 2005; X13 = amount of bill statement in August, 2005; . . .; X17 = amount of bill statement in April, 2005.\n",
        "* ### X18-X23: Amount of previous payment (NT dollar). X18 = amount paid in September, 2005; X19 = amount paid in August, 2005; . . .;X23 = amount paid in April, 2005."
      ]
    },
    {
      "cell_type": "markdown",
      "source": [
        "Load packages"
      ],
      "metadata": {
        "id": "42AUGY4X7aHk"
      }
    },
    {
      "cell_type": "code",
      "metadata": {
        "id": "dByMsuzT8Tnw"
      },
      "source": [
        "import pandas as pd \n",
        "import numpy as np\n",
        "import matplotlib\n",
        "import matplotlib.pyplot as plt\n",
        "import seaborn as sns\n",
        "%matplotlib inline \n",
        "\n",
        "import gc\n",
        "from datetime import datetime \n",
        "from sklearn.model_selection import train_test_split\n",
        "from sklearn.model_selection import KFold\n",
        "from sklearn.metrics import roc_auc_score\n",
        "from sklearn.ensemble import RandomForestClassifier\n",
        "from sklearn.ensemble import AdaBoostClassifier\n",
        "from catboost import CatBoostClassifier\n",
        "import lightgbm as lgb\n",
        "import xgboost as xgb\n",
        "\n",
        "pd.set_option('display.max_columns', 100)\n"
      ],
      "execution_count": null,
      "outputs": []
    },
    {
      "cell_type": "markdown",
      "source": [
        "Set parameters\n",
        "\n",
        "Here we set few parameters for the analysis and models."
      ],
      "metadata": {
        "id": "GugBnxNj7kIr"
      }
    },
    {
      "cell_type": "code",
      "source": [
        "RFC_METRIC = 'gini'  #metric used for RandomForrestClassifier\n",
        "NUM_ESTIMATORS = 100 #number of estimators used for RandomForrestClassifier\n",
        "NO_JOBS = 4 #number of parallel jobs used for RandomForrestClassifier\n",
        "\n",
        "#VALIDATION\n",
        "VALID_SIZE = 0.20 # simple validation using train_test_split\n",
        "\n",
        "#CROSS-VALIDATION\n",
        "NUMBER_KFOLDS = 5 #number of KFolds for cross-validation\n",
        "\n",
        "RANDOM_STATE = 2018\n",
        "\n",
        "MAX_ROUNDS = 1000 #lgb iterations\n",
        "EARLY_STOP = 50 #lgb early stop \n",
        "OPT_ROUNDS = 1000  #To be adjusted based on best validation rounds\n",
        "VERBOSE_EVAL = 50 #Print out metric result\n",
        "\n",
        "IS_LOCAL = False\n",
        "\n",
        "\n"
      ],
      "metadata": {
        "id": "IPqw-W1jvAQU"
      },
      "execution_count": null,
      "outputs": []
    },
    {
      "cell_type": "markdown",
      "source": [
        "Read the data"
      ],
      "metadata": {
        "id": "0tWbxXdw_iyD"
      }
    },
    {
      "cell_type": "code",
      "source": [
        "data_df = pd.read_csv(r'/content/sample_data/Credit_Card.csv')"
      ],
      "metadata": {
        "id": "d3uL-NU2vv8A"
      },
      "execution_count": null,
      "outputs": []
    },
    {
      "cell_type": "markdown",
      "source": [
        "Check the data"
      ],
      "metadata": {
        "id": "WeJlxPVg_ojR"
      }
    },
    {
      "cell_type": "code",
      "source": [
        "print(\"Default Credit Card Clients data -  rows:\",data_df.shape[0],\" columns:\", data_df.shape[1])"
      ],
      "metadata": {
        "id": "w75YTgWMxHgy",
        "outputId": "3bc56953-ef2d-4ee4-86a7-4113db0dc52c",
        "colab": {
          "base_uri": "https://localhost:8080/"
        }
      },
      "execution_count": null,
      "outputs": [
        {
          "output_type": "stream",
          "name": "stdout",
          "text": [
            "Default Credit Card Clients data -  rows: 30000  columns: 25\n"
          ]
        }
      ]
    },
    {
      "cell_type": "markdown",
      "source": [
        "Glimpse the data\n",
        "\n",
        "We start by looking to the data features (first 5 rows)."
      ],
      "metadata": {
        "id": "wIbrMtuB_0ud"
      }
    },
    {
      "cell_type": "code",
      "source": [
        "data_df.head()"
      ],
      "metadata": {
        "id": "RNNrT0DgxPD7",
        "outputId": "db616c14-f56f-4c0e-9ce9-b7354c57dacb",
        "colab": {
          "base_uri": "https://localhost:8080/",
          "height": 270
        }
      },
      "execution_count": null,
      "outputs": [
        {
          "output_type": "execute_result",
          "data": {
            "text/plain": [
              "   ID  LIMIT_BAL  SEX  EDUCATION  MARRIAGE  AGE  PAY_0  PAY_2  PAY_3  PAY_4  \\\n",
              "0   1    20000.0    2          2         1   24      2      2     -1     -1   \n",
              "1   2   120000.0    2          2         2   26     -1      2      0      0   \n",
              "2   3    90000.0    2          2         2   34      0      0      0      0   \n",
              "3   4    50000.0    2          2         1   37      0      0      0      0   \n",
              "4   5    50000.0    1          2         1   57     -1      0     -1      0   \n",
              "\n",
              "   PAY_5  PAY_6  BILL_AMT1  BILL_AMT2  BILL_AMT3  BILL_AMT4  BILL_AMT5  \\\n",
              "0     -2     -2     3913.0     3102.0      689.0        0.0        0.0   \n",
              "1      0      2     2682.0     1725.0     2682.0     3272.0     3455.0   \n",
              "2      0      0    29239.0    14027.0    13559.0    14331.0    14948.0   \n",
              "3      0      0    46990.0    48233.0    49291.0    28314.0    28959.0   \n",
              "4      0      0     8617.0     5670.0    35835.0    20940.0    19146.0   \n",
              "\n",
              "   BILL_AMT6  PAY_AMT1  PAY_AMT2  PAY_AMT3  PAY_AMT4  PAY_AMT5  PAY_AMT6  \\\n",
              "0        0.0       0.0     689.0       0.0       0.0       0.0       0.0   \n",
              "1     3261.0       0.0    1000.0    1000.0    1000.0       0.0    2000.0   \n",
              "2    15549.0    1518.0    1500.0    1000.0    1000.0    1000.0    5000.0   \n",
              "3    29547.0    2000.0    2019.0    1200.0    1100.0    1069.0    1000.0   \n",
              "4    19131.0    2000.0   36681.0   10000.0    9000.0     689.0     679.0   \n",
              "\n",
              "   default.payment.next.month  \n",
              "0                           1  \n",
              "1                           1  \n",
              "2                           0  \n",
              "3                           0  \n",
              "4                           0  "
            ],
            "text/html": [
              "\n",
              "  <div id=\"df-41872ec6-8397-4fe0-99d0-8b8c328295ba\">\n",
              "    <div class=\"colab-df-container\">\n",
              "      <div>\n",
              "<style scoped>\n",
              "    .dataframe tbody tr th:only-of-type {\n",
              "        vertical-align: middle;\n",
              "    }\n",
              "\n",
              "    .dataframe tbody tr th {\n",
              "        vertical-align: top;\n",
              "    }\n",
              "\n",
              "    .dataframe thead th {\n",
              "        text-align: right;\n",
              "    }\n",
              "</style>\n",
              "<table border=\"1\" class=\"dataframe\">\n",
              "  <thead>\n",
              "    <tr style=\"text-align: right;\">\n",
              "      <th></th>\n",
              "      <th>ID</th>\n",
              "      <th>LIMIT_BAL</th>\n",
              "      <th>SEX</th>\n",
              "      <th>EDUCATION</th>\n",
              "      <th>MARRIAGE</th>\n",
              "      <th>AGE</th>\n",
              "      <th>PAY_0</th>\n",
              "      <th>PAY_2</th>\n",
              "      <th>PAY_3</th>\n",
              "      <th>PAY_4</th>\n",
              "      <th>PAY_5</th>\n",
              "      <th>PAY_6</th>\n",
              "      <th>BILL_AMT1</th>\n",
              "      <th>BILL_AMT2</th>\n",
              "      <th>BILL_AMT3</th>\n",
              "      <th>BILL_AMT4</th>\n",
              "      <th>BILL_AMT5</th>\n",
              "      <th>BILL_AMT6</th>\n",
              "      <th>PAY_AMT1</th>\n",
              "      <th>PAY_AMT2</th>\n",
              "      <th>PAY_AMT3</th>\n",
              "      <th>PAY_AMT4</th>\n",
              "      <th>PAY_AMT5</th>\n",
              "      <th>PAY_AMT6</th>\n",
              "      <th>default.payment.next.month</th>\n",
              "    </tr>\n",
              "  </thead>\n",
              "  <tbody>\n",
              "    <tr>\n",
              "      <th>0</th>\n",
              "      <td>1</td>\n",
              "      <td>20000.0</td>\n",
              "      <td>2</td>\n",
              "      <td>2</td>\n",
              "      <td>1</td>\n",
              "      <td>24</td>\n",
              "      <td>2</td>\n",
              "      <td>2</td>\n",
              "      <td>-1</td>\n",
              "      <td>-1</td>\n",
              "      <td>-2</td>\n",
              "      <td>-2</td>\n",
              "      <td>3913.0</td>\n",
              "      <td>3102.0</td>\n",
              "      <td>689.0</td>\n",
              "      <td>0.0</td>\n",
              "      <td>0.0</td>\n",
              "      <td>0.0</td>\n",
              "      <td>0.0</td>\n",
              "      <td>689.0</td>\n",
              "      <td>0.0</td>\n",
              "      <td>0.0</td>\n",
              "      <td>0.0</td>\n",
              "      <td>0.0</td>\n",
              "      <td>1</td>\n",
              "    </tr>\n",
              "    <tr>\n",
              "      <th>1</th>\n",
              "      <td>2</td>\n",
              "      <td>120000.0</td>\n",
              "      <td>2</td>\n",
              "      <td>2</td>\n",
              "      <td>2</td>\n",
              "      <td>26</td>\n",
              "      <td>-1</td>\n",
              "      <td>2</td>\n",
              "      <td>0</td>\n",
              "      <td>0</td>\n",
              "      <td>0</td>\n",
              "      <td>2</td>\n",
              "      <td>2682.0</td>\n",
              "      <td>1725.0</td>\n",
              "      <td>2682.0</td>\n",
              "      <td>3272.0</td>\n",
              "      <td>3455.0</td>\n",
              "      <td>3261.0</td>\n",
              "      <td>0.0</td>\n",
              "      <td>1000.0</td>\n",
              "      <td>1000.0</td>\n",
              "      <td>1000.0</td>\n",
              "      <td>0.0</td>\n",
              "      <td>2000.0</td>\n",
              "      <td>1</td>\n",
              "    </tr>\n",
              "    <tr>\n",
              "      <th>2</th>\n",
              "      <td>3</td>\n",
              "      <td>90000.0</td>\n",
              "      <td>2</td>\n",
              "      <td>2</td>\n",
              "      <td>2</td>\n",
              "      <td>34</td>\n",
              "      <td>0</td>\n",
              "      <td>0</td>\n",
              "      <td>0</td>\n",
              "      <td>0</td>\n",
              "      <td>0</td>\n",
              "      <td>0</td>\n",
              "      <td>29239.0</td>\n",
              "      <td>14027.0</td>\n",
              "      <td>13559.0</td>\n",
              "      <td>14331.0</td>\n",
              "      <td>14948.0</td>\n",
              "      <td>15549.0</td>\n",
              "      <td>1518.0</td>\n",
              "      <td>1500.0</td>\n",
              "      <td>1000.0</td>\n",
              "      <td>1000.0</td>\n",
              "      <td>1000.0</td>\n",
              "      <td>5000.0</td>\n",
              "      <td>0</td>\n",
              "    </tr>\n",
              "    <tr>\n",
              "      <th>3</th>\n",
              "      <td>4</td>\n",
              "      <td>50000.0</td>\n",
              "      <td>2</td>\n",
              "      <td>2</td>\n",
              "      <td>1</td>\n",
              "      <td>37</td>\n",
              "      <td>0</td>\n",
              "      <td>0</td>\n",
              "      <td>0</td>\n",
              "      <td>0</td>\n",
              "      <td>0</td>\n",
              "      <td>0</td>\n",
              "      <td>46990.0</td>\n",
              "      <td>48233.0</td>\n",
              "      <td>49291.0</td>\n",
              "      <td>28314.0</td>\n",
              "      <td>28959.0</td>\n",
              "      <td>29547.0</td>\n",
              "      <td>2000.0</td>\n",
              "      <td>2019.0</td>\n",
              "      <td>1200.0</td>\n",
              "      <td>1100.0</td>\n",
              "      <td>1069.0</td>\n",
              "      <td>1000.0</td>\n",
              "      <td>0</td>\n",
              "    </tr>\n",
              "    <tr>\n",
              "      <th>4</th>\n",
              "      <td>5</td>\n",
              "      <td>50000.0</td>\n",
              "      <td>1</td>\n",
              "      <td>2</td>\n",
              "      <td>1</td>\n",
              "      <td>57</td>\n",
              "      <td>-1</td>\n",
              "      <td>0</td>\n",
              "      <td>-1</td>\n",
              "      <td>0</td>\n",
              "      <td>0</td>\n",
              "      <td>0</td>\n",
              "      <td>8617.0</td>\n",
              "      <td>5670.0</td>\n",
              "      <td>35835.0</td>\n",
              "      <td>20940.0</td>\n",
              "      <td>19146.0</td>\n",
              "      <td>19131.0</td>\n",
              "      <td>2000.0</td>\n",
              "      <td>36681.0</td>\n",
              "      <td>10000.0</td>\n",
              "      <td>9000.0</td>\n",
              "      <td>689.0</td>\n",
              "      <td>679.0</td>\n",
              "      <td>0</td>\n",
              "    </tr>\n",
              "  </tbody>\n",
              "</table>\n",
              "</div>\n",
              "      <button class=\"colab-df-convert\" onclick=\"convertToInteractive('df-41872ec6-8397-4fe0-99d0-8b8c328295ba')\"\n",
              "              title=\"Convert this dataframe to an interactive table.\"\n",
              "              style=\"display:none;\">\n",
              "        \n",
              "  <svg xmlns=\"http://www.w3.org/2000/svg\" height=\"24px\"viewBox=\"0 0 24 24\"\n",
              "       width=\"24px\">\n",
              "    <path d=\"M0 0h24v24H0V0z\" fill=\"none\"/>\n",
              "    <path d=\"M18.56 5.44l.94 2.06.94-2.06 2.06-.94-2.06-.94-.94-2.06-.94 2.06-2.06.94zm-11 1L8.5 8.5l.94-2.06 2.06-.94-2.06-.94L8.5 2.5l-.94 2.06-2.06.94zm10 10l.94 2.06.94-2.06 2.06-.94-2.06-.94-.94-2.06-.94 2.06-2.06.94z\"/><path d=\"M17.41 7.96l-1.37-1.37c-.4-.4-.92-.59-1.43-.59-.52 0-1.04.2-1.43.59L10.3 9.45l-7.72 7.72c-.78.78-.78 2.05 0 2.83L4 21.41c.39.39.9.59 1.41.59.51 0 1.02-.2 1.41-.59l7.78-7.78 2.81-2.81c.8-.78.8-2.07 0-2.86zM5.41 20L4 18.59l7.72-7.72 1.47 1.35L5.41 20z\"/>\n",
              "  </svg>\n",
              "      </button>\n",
              "      \n",
              "  <style>\n",
              "    .colab-df-container {\n",
              "      display:flex;\n",
              "      flex-wrap:wrap;\n",
              "      gap: 12px;\n",
              "    }\n",
              "\n",
              "    .colab-df-convert {\n",
              "      background-color: #E8F0FE;\n",
              "      border: none;\n",
              "      border-radius: 50%;\n",
              "      cursor: pointer;\n",
              "      display: none;\n",
              "      fill: #1967D2;\n",
              "      height: 32px;\n",
              "      padding: 0 0 0 0;\n",
              "      width: 32px;\n",
              "    }\n",
              "\n",
              "    .colab-df-convert:hover {\n",
              "      background-color: #E2EBFA;\n",
              "      box-shadow: 0px 1px 2px rgba(60, 64, 67, 0.3), 0px 1px 3px 1px rgba(60, 64, 67, 0.15);\n",
              "      fill: #174EA6;\n",
              "    }\n",
              "\n",
              "    [theme=dark] .colab-df-convert {\n",
              "      background-color: #3B4455;\n",
              "      fill: #D2E3FC;\n",
              "    }\n",
              "\n",
              "    [theme=dark] .colab-df-convert:hover {\n",
              "      background-color: #434B5C;\n",
              "      box-shadow: 0px 1px 3px 1px rgba(0, 0, 0, 0.15);\n",
              "      filter: drop-shadow(0px 1px 2px rgba(0, 0, 0, 0.3));\n",
              "      fill: #FFFFFF;\n",
              "    }\n",
              "  </style>\n",
              "\n",
              "      <script>\n",
              "        const buttonEl =\n",
              "          document.querySelector('#df-41872ec6-8397-4fe0-99d0-8b8c328295ba button.colab-df-convert');\n",
              "        buttonEl.style.display =\n",
              "          google.colab.kernel.accessAllowed ? 'block' : 'none';\n",
              "\n",
              "        async function convertToInteractive(key) {\n",
              "          const element = document.querySelector('#df-41872ec6-8397-4fe0-99d0-8b8c328295ba');\n",
              "          const dataTable =\n",
              "            await google.colab.kernel.invokeFunction('convertToInteractive',\n",
              "                                                     [key], {});\n",
              "          if (!dataTable) return;\n",
              "\n",
              "          const docLinkHtml = 'Like what you see? Visit the ' +\n",
              "            '<a target=\"_blank\" href=https://colab.research.google.com/notebooks/data_table.ipynb>data table notebook</a>'\n",
              "            + ' to learn more about interactive tables.';\n",
              "          element.innerHTML = '';\n",
              "          dataTable['output_type'] = 'display_data';\n",
              "          await google.colab.output.renderOutput(dataTable, element);\n",
              "          const docLink = document.createElement('div');\n",
              "          docLink.innerHTML = docLinkHtml;\n",
              "          element.appendChild(docLink);\n",
              "        }\n",
              "      </script>\n",
              "    </div>\n",
              "  </div>\n",
              "  "
            ]
          },
          "metadata": {},
          "execution_count": 32
        }
      ]
    },
    {
      "cell_type": "markdown",
      "source": [
        "Let's look into more details to the data."
      ],
      "metadata": {
        "id": "oLisfd2z_7Xe"
      }
    },
    {
      "cell_type": "code",
      "source": [
        "data_df.describe()\n"
      ],
      "metadata": {
        "id": "k9K_rruExSqz",
        "colab": {
          "base_uri": "https://localhost:8080/",
          "height": 364
        },
        "outputId": "78da8616-3271-44ab-f312-8d729f9867f1"
      },
      "execution_count": null,
      "outputs": [
        {
          "output_type": "execute_result",
          "data": {
            "text/plain": [
              "                 ID       LIMIT_BAL           SEX     EDUCATION      MARRIAGE  \\\n",
              "count  30000.000000    30000.000000  30000.000000  30000.000000  30000.000000   \n",
              "mean   15000.500000   167484.322667      1.603733      1.853133      1.551867   \n",
              "std     8660.398374   129747.661567      0.489129      0.790349      0.521970   \n",
              "min        1.000000    10000.000000      1.000000      0.000000      0.000000   \n",
              "25%     7500.750000    50000.000000      1.000000      1.000000      1.000000   \n",
              "50%    15000.500000   140000.000000      2.000000      2.000000      2.000000   \n",
              "75%    22500.250000   240000.000000      2.000000      2.000000      2.000000   \n",
              "max    30000.000000  1000000.000000      2.000000      6.000000      3.000000   \n",
              "\n",
              "                AGE         PAY_0         PAY_2         PAY_3         PAY_4  \\\n",
              "count  30000.000000  30000.000000  30000.000000  30000.000000  30000.000000   \n",
              "mean      35.485500     -0.016700     -0.133767     -0.166200     -0.220667   \n",
              "std        9.217904      1.123802      1.197186      1.196868      1.169139   \n",
              "min       21.000000     -2.000000     -2.000000     -2.000000     -2.000000   \n",
              "25%       28.000000     -1.000000     -1.000000     -1.000000     -1.000000   \n",
              "50%       34.000000      0.000000      0.000000      0.000000      0.000000   \n",
              "75%       41.000000      0.000000      0.000000      0.000000      0.000000   \n",
              "max       79.000000      8.000000      8.000000      8.000000      8.000000   \n",
              "\n",
              "              PAY_5         PAY_6      BILL_AMT1      BILL_AMT2     BILL_AMT3  \\\n",
              "count  30000.000000  30000.000000   30000.000000   30000.000000  3.000000e+04   \n",
              "mean      -0.266200     -0.291100   51223.330900   49179.075167  4.701315e+04   \n",
              "std        1.133187      1.149988   73635.860576   71173.768783  6.934939e+04   \n",
              "min       -2.000000     -2.000000 -165580.000000  -69777.000000 -1.572640e+05   \n",
              "25%       -1.000000     -1.000000    3558.750000    2984.750000  2.666250e+03   \n",
              "50%        0.000000      0.000000   22381.500000   21200.000000  2.008850e+04   \n",
              "75%        0.000000      0.000000   67091.000000   64006.250000  6.016475e+04   \n",
              "max        8.000000      8.000000  964511.000000  983931.000000  1.664089e+06   \n",
              "\n",
              "           BILL_AMT4      BILL_AMT5      BILL_AMT6       PAY_AMT1  \\\n",
              "count   30000.000000   30000.000000   30000.000000   30000.000000   \n",
              "mean    43262.948967   40311.400967   38871.760400    5663.580500   \n",
              "std     64332.856134   60797.155770   59554.107537   16563.280354   \n",
              "min   -170000.000000  -81334.000000 -339603.000000       0.000000   \n",
              "25%      2326.750000    1763.000000    1256.000000    1000.000000   \n",
              "50%     19052.000000   18104.500000   17071.000000    2100.000000   \n",
              "75%     54506.000000   50190.500000   49198.250000    5006.000000   \n",
              "max    891586.000000  927171.000000  961664.000000  873552.000000   \n",
              "\n",
              "           PAY_AMT2      PAY_AMT3       PAY_AMT4       PAY_AMT5  \\\n",
              "count  3.000000e+04   30000.00000   30000.000000   30000.000000   \n",
              "mean   5.921163e+03    5225.68150    4826.076867    4799.387633   \n",
              "std    2.304087e+04   17606.96147   15666.159744   15278.305679   \n",
              "min    0.000000e+00       0.00000       0.000000       0.000000   \n",
              "25%    8.330000e+02     390.00000     296.000000     252.500000   \n",
              "50%    2.009000e+03    1800.00000    1500.000000    1500.000000   \n",
              "75%    5.000000e+03    4505.00000    4013.250000    4031.500000   \n",
              "max    1.684259e+06  896040.00000  621000.000000  426529.000000   \n",
              "\n",
              "            PAY_AMT6  default.payment.next.month  \n",
              "count   30000.000000                30000.000000  \n",
              "mean     5215.502567                    0.221200  \n",
              "std     17777.465775                    0.415062  \n",
              "min         0.000000                    0.000000  \n",
              "25%       117.750000                    0.000000  \n",
              "50%      1500.000000                    0.000000  \n",
              "75%      4000.000000                    0.000000  \n",
              "max    528666.000000                    1.000000  "
            ],
            "text/html": [
              "\n",
              "  <div id=\"df-b2a44544-8721-433b-8ea1-8d9b4765051e\">\n",
              "    <div class=\"colab-df-container\">\n",
              "      <div>\n",
              "<style scoped>\n",
              "    .dataframe tbody tr th:only-of-type {\n",
              "        vertical-align: middle;\n",
              "    }\n",
              "\n",
              "    .dataframe tbody tr th {\n",
              "        vertical-align: top;\n",
              "    }\n",
              "\n",
              "    .dataframe thead th {\n",
              "        text-align: right;\n",
              "    }\n",
              "</style>\n",
              "<table border=\"1\" class=\"dataframe\">\n",
              "  <thead>\n",
              "    <tr style=\"text-align: right;\">\n",
              "      <th></th>\n",
              "      <th>ID</th>\n",
              "      <th>LIMIT_BAL</th>\n",
              "      <th>SEX</th>\n",
              "      <th>EDUCATION</th>\n",
              "      <th>MARRIAGE</th>\n",
              "      <th>AGE</th>\n",
              "      <th>PAY_0</th>\n",
              "      <th>PAY_2</th>\n",
              "      <th>PAY_3</th>\n",
              "      <th>PAY_4</th>\n",
              "      <th>PAY_5</th>\n",
              "      <th>PAY_6</th>\n",
              "      <th>BILL_AMT1</th>\n",
              "      <th>BILL_AMT2</th>\n",
              "      <th>BILL_AMT3</th>\n",
              "      <th>BILL_AMT4</th>\n",
              "      <th>BILL_AMT5</th>\n",
              "      <th>BILL_AMT6</th>\n",
              "      <th>PAY_AMT1</th>\n",
              "      <th>PAY_AMT2</th>\n",
              "      <th>PAY_AMT3</th>\n",
              "      <th>PAY_AMT4</th>\n",
              "      <th>PAY_AMT5</th>\n",
              "      <th>PAY_AMT6</th>\n",
              "      <th>default.payment.next.month</th>\n",
              "    </tr>\n",
              "  </thead>\n",
              "  <tbody>\n",
              "    <tr>\n",
              "      <th>count</th>\n",
              "      <td>30000.000000</td>\n",
              "      <td>30000.000000</td>\n",
              "      <td>30000.000000</td>\n",
              "      <td>30000.000000</td>\n",
              "      <td>30000.000000</td>\n",
              "      <td>30000.000000</td>\n",
              "      <td>30000.000000</td>\n",
              "      <td>30000.000000</td>\n",
              "      <td>30000.000000</td>\n",
              "      <td>30000.000000</td>\n",
              "      <td>30000.000000</td>\n",
              "      <td>30000.000000</td>\n",
              "      <td>30000.000000</td>\n",
              "      <td>30000.000000</td>\n",
              "      <td>3.000000e+04</td>\n",
              "      <td>30000.000000</td>\n",
              "      <td>30000.000000</td>\n",
              "      <td>30000.000000</td>\n",
              "      <td>30000.000000</td>\n",
              "      <td>3.000000e+04</td>\n",
              "      <td>30000.00000</td>\n",
              "      <td>30000.000000</td>\n",
              "      <td>30000.000000</td>\n",
              "      <td>30000.000000</td>\n",
              "      <td>30000.000000</td>\n",
              "    </tr>\n",
              "    <tr>\n",
              "      <th>mean</th>\n",
              "      <td>15000.500000</td>\n",
              "      <td>167484.322667</td>\n",
              "      <td>1.603733</td>\n",
              "      <td>1.853133</td>\n",
              "      <td>1.551867</td>\n",
              "      <td>35.485500</td>\n",
              "      <td>-0.016700</td>\n",
              "      <td>-0.133767</td>\n",
              "      <td>-0.166200</td>\n",
              "      <td>-0.220667</td>\n",
              "      <td>-0.266200</td>\n",
              "      <td>-0.291100</td>\n",
              "      <td>51223.330900</td>\n",
              "      <td>49179.075167</td>\n",
              "      <td>4.701315e+04</td>\n",
              "      <td>43262.948967</td>\n",
              "      <td>40311.400967</td>\n",
              "      <td>38871.760400</td>\n",
              "      <td>5663.580500</td>\n",
              "      <td>5.921163e+03</td>\n",
              "      <td>5225.68150</td>\n",
              "      <td>4826.076867</td>\n",
              "      <td>4799.387633</td>\n",
              "      <td>5215.502567</td>\n",
              "      <td>0.221200</td>\n",
              "    </tr>\n",
              "    <tr>\n",
              "      <th>std</th>\n",
              "      <td>8660.398374</td>\n",
              "      <td>129747.661567</td>\n",
              "      <td>0.489129</td>\n",
              "      <td>0.790349</td>\n",
              "      <td>0.521970</td>\n",
              "      <td>9.217904</td>\n",
              "      <td>1.123802</td>\n",
              "      <td>1.197186</td>\n",
              "      <td>1.196868</td>\n",
              "      <td>1.169139</td>\n",
              "      <td>1.133187</td>\n",
              "      <td>1.149988</td>\n",
              "      <td>73635.860576</td>\n",
              "      <td>71173.768783</td>\n",
              "      <td>6.934939e+04</td>\n",
              "      <td>64332.856134</td>\n",
              "      <td>60797.155770</td>\n",
              "      <td>59554.107537</td>\n",
              "      <td>16563.280354</td>\n",
              "      <td>2.304087e+04</td>\n",
              "      <td>17606.96147</td>\n",
              "      <td>15666.159744</td>\n",
              "      <td>15278.305679</td>\n",
              "      <td>17777.465775</td>\n",
              "      <td>0.415062</td>\n",
              "    </tr>\n",
              "    <tr>\n",
              "      <th>min</th>\n",
              "      <td>1.000000</td>\n",
              "      <td>10000.000000</td>\n",
              "      <td>1.000000</td>\n",
              "      <td>0.000000</td>\n",
              "      <td>0.000000</td>\n",
              "      <td>21.000000</td>\n",
              "      <td>-2.000000</td>\n",
              "      <td>-2.000000</td>\n",
              "      <td>-2.000000</td>\n",
              "      <td>-2.000000</td>\n",
              "      <td>-2.000000</td>\n",
              "      <td>-2.000000</td>\n",
              "      <td>-165580.000000</td>\n",
              "      <td>-69777.000000</td>\n",
              "      <td>-1.572640e+05</td>\n",
              "      <td>-170000.000000</td>\n",
              "      <td>-81334.000000</td>\n",
              "      <td>-339603.000000</td>\n",
              "      <td>0.000000</td>\n",
              "      <td>0.000000e+00</td>\n",
              "      <td>0.00000</td>\n",
              "      <td>0.000000</td>\n",
              "      <td>0.000000</td>\n",
              "      <td>0.000000</td>\n",
              "      <td>0.000000</td>\n",
              "    </tr>\n",
              "    <tr>\n",
              "      <th>25%</th>\n",
              "      <td>7500.750000</td>\n",
              "      <td>50000.000000</td>\n",
              "      <td>1.000000</td>\n",
              "      <td>1.000000</td>\n",
              "      <td>1.000000</td>\n",
              "      <td>28.000000</td>\n",
              "      <td>-1.000000</td>\n",
              "      <td>-1.000000</td>\n",
              "      <td>-1.000000</td>\n",
              "      <td>-1.000000</td>\n",
              "      <td>-1.000000</td>\n",
              "      <td>-1.000000</td>\n",
              "      <td>3558.750000</td>\n",
              "      <td>2984.750000</td>\n",
              "      <td>2.666250e+03</td>\n",
              "      <td>2326.750000</td>\n",
              "      <td>1763.000000</td>\n",
              "      <td>1256.000000</td>\n",
              "      <td>1000.000000</td>\n",
              "      <td>8.330000e+02</td>\n",
              "      <td>390.00000</td>\n",
              "      <td>296.000000</td>\n",
              "      <td>252.500000</td>\n",
              "      <td>117.750000</td>\n",
              "      <td>0.000000</td>\n",
              "    </tr>\n",
              "    <tr>\n",
              "      <th>50%</th>\n",
              "      <td>15000.500000</td>\n",
              "      <td>140000.000000</td>\n",
              "      <td>2.000000</td>\n",
              "      <td>2.000000</td>\n",
              "      <td>2.000000</td>\n",
              "      <td>34.000000</td>\n",
              "      <td>0.000000</td>\n",
              "      <td>0.000000</td>\n",
              "      <td>0.000000</td>\n",
              "      <td>0.000000</td>\n",
              "      <td>0.000000</td>\n",
              "      <td>0.000000</td>\n",
              "      <td>22381.500000</td>\n",
              "      <td>21200.000000</td>\n",
              "      <td>2.008850e+04</td>\n",
              "      <td>19052.000000</td>\n",
              "      <td>18104.500000</td>\n",
              "      <td>17071.000000</td>\n",
              "      <td>2100.000000</td>\n",
              "      <td>2.009000e+03</td>\n",
              "      <td>1800.00000</td>\n",
              "      <td>1500.000000</td>\n",
              "      <td>1500.000000</td>\n",
              "      <td>1500.000000</td>\n",
              "      <td>0.000000</td>\n",
              "    </tr>\n",
              "    <tr>\n",
              "      <th>75%</th>\n",
              "      <td>22500.250000</td>\n",
              "      <td>240000.000000</td>\n",
              "      <td>2.000000</td>\n",
              "      <td>2.000000</td>\n",
              "      <td>2.000000</td>\n",
              "      <td>41.000000</td>\n",
              "      <td>0.000000</td>\n",
              "      <td>0.000000</td>\n",
              "      <td>0.000000</td>\n",
              "      <td>0.000000</td>\n",
              "      <td>0.000000</td>\n",
              "      <td>0.000000</td>\n",
              "      <td>67091.000000</td>\n",
              "      <td>64006.250000</td>\n",
              "      <td>6.016475e+04</td>\n",
              "      <td>54506.000000</td>\n",
              "      <td>50190.500000</td>\n",
              "      <td>49198.250000</td>\n",
              "      <td>5006.000000</td>\n",
              "      <td>5.000000e+03</td>\n",
              "      <td>4505.00000</td>\n",
              "      <td>4013.250000</td>\n",
              "      <td>4031.500000</td>\n",
              "      <td>4000.000000</td>\n",
              "      <td>0.000000</td>\n",
              "    </tr>\n",
              "    <tr>\n",
              "      <th>max</th>\n",
              "      <td>30000.000000</td>\n",
              "      <td>1000000.000000</td>\n",
              "      <td>2.000000</td>\n",
              "      <td>6.000000</td>\n",
              "      <td>3.000000</td>\n",
              "      <td>79.000000</td>\n",
              "      <td>8.000000</td>\n",
              "      <td>8.000000</td>\n",
              "      <td>8.000000</td>\n",
              "      <td>8.000000</td>\n",
              "      <td>8.000000</td>\n",
              "      <td>8.000000</td>\n",
              "      <td>964511.000000</td>\n",
              "      <td>983931.000000</td>\n",
              "      <td>1.664089e+06</td>\n",
              "      <td>891586.000000</td>\n",
              "      <td>927171.000000</td>\n",
              "      <td>961664.000000</td>\n",
              "      <td>873552.000000</td>\n",
              "      <td>1.684259e+06</td>\n",
              "      <td>896040.00000</td>\n",
              "      <td>621000.000000</td>\n",
              "      <td>426529.000000</td>\n",
              "      <td>528666.000000</td>\n",
              "      <td>1.000000</td>\n",
              "    </tr>\n",
              "  </tbody>\n",
              "</table>\n",
              "</div>\n",
              "      <button class=\"colab-df-convert\" onclick=\"convertToInteractive('df-b2a44544-8721-433b-8ea1-8d9b4765051e')\"\n",
              "              title=\"Convert this dataframe to an interactive table.\"\n",
              "              style=\"display:none;\">\n",
              "        \n",
              "  <svg xmlns=\"http://www.w3.org/2000/svg\" height=\"24px\"viewBox=\"0 0 24 24\"\n",
              "       width=\"24px\">\n",
              "    <path d=\"M0 0h24v24H0V0z\" fill=\"none\"/>\n",
              "    <path d=\"M18.56 5.44l.94 2.06.94-2.06 2.06-.94-2.06-.94-.94-2.06-.94 2.06-2.06.94zm-11 1L8.5 8.5l.94-2.06 2.06-.94-2.06-.94L8.5 2.5l-.94 2.06-2.06.94zm10 10l.94 2.06.94-2.06 2.06-.94-2.06-.94-.94-2.06-.94 2.06-2.06.94z\"/><path d=\"M17.41 7.96l-1.37-1.37c-.4-.4-.92-.59-1.43-.59-.52 0-1.04.2-1.43.59L10.3 9.45l-7.72 7.72c-.78.78-.78 2.05 0 2.83L4 21.41c.39.39.9.59 1.41.59.51 0 1.02-.2 1.41-.59l7.78-7.78 2.81-2.81c.8-.78.8-2.07 0-2.86zM5.41 20L4 18.59l7.72-7.72 1.47 1.35L5.41 20z\"/>\n",
              "  </svg>\n",
              "      </button>\n",
              "      \n",
              "  <style>\n",
              "    .colab-df-container {\n",
              "      display:flex;\n",
              "      flex-wrap:wrap;\n",
              "      gap: 12px;\n",
              "    }\n",
              "\n",
              "    .colab-df-convert {\n",
              "      background-color: #E8F0FE;\n",
              "      border: none;\n",
              "      border-radius: 50%;\n",
              "      cursor: pointer;\n",
              "      display: none;\n",
              "      fill: #1967D2;\n",
              "      height: 32px;\n",
              "      padding: 0 0 0 0;\n",
              "      width: 32px;\n",
              "    }\n",
              "\n",
              "    .colab-df-convert:hover {\n",
              "      background-color: #E2EBFA;\n",
              "      box-shadow: 0px 1px 2px rgba(60, 64, 67, 0.3), 0px 1px 3px 1px rgba(60, 64, 67, 0.15);\n",
              "      fill: #174EA6;\n",
              "    }\n",
              "\n",
              "    [theme=dark] .colab-df-convert {\n",
              "      background-color: #3B4455;\n",
              "      fill: #D2E3FC;\n",
              "    }\n",
              "\n",
              "    [theme=dark] .colab-df-convert:hover {\n",
              "      background-color: #434B5C;\n",
              "      box-shadow: 0px 1px 3px 1px rgba(0, 0, 0, 0.15);\n",
              "      filter: drop-shadow(0px 1px 2px rgba(0, 0, 0, 0.3));\n",
              "      fill: #FFFFFF;\n",
              "    }\n",
              "  </style>\n",
              "\n",
              "      <script>\n",
              "        const buttonEl =\n",
              "          document.querySelector('#df-b2a44544-8721-433b-8ea1-8d9b4765051e button.colab-df-convert');\n",
              "        buttonEl.style.display =\n",
              "          google.colab.kernel.accessAllowed ? 'block' : 'none';\n",
              "\n",
              "        async function convertToInteractive(key) {\n",
              "          const element = document.querySelector('#df-b2a44544-8721-433b-8ea1-8d9b4765051e');\n",
              "          const dataTable =\n",
              "            await google.colab.kernel.invokeFunction('convertToInteractive',\n",
              "                                                     [key], {});\n",
              "          if (!dataTable) return;\n",
              "\n",
              "          const docLinkHtml = 'Like what you see? Visit the ' +\n",
              "            '<a target=\"_blank\" href=https://colab.research.google.com/notebooks/data_table.ipynb>data table notebook</a>'\n",
              "            + ' to learn more about interactive tables.';\n",
              "          element.innerHTML = '';\n",
              "          dataTable['output_type'] = 'display_data';\n",
              "          await google.colab.output.renderOutput(dataTable, element);\n",
              "          const docLink = document.createElement('div');\n",
              "          docLink.innerHTML = docLinkHtml;\n",
              "          element.appendChild(docLink);\n",
              "        }\n",
              "      </script>\n",
              "    </div>\n",
              "  </div>\n",
              "  "
            ]
          },
          "metadata": {},
          "execution_count": 33
        }
      ]
    },
    {
      "cell_type": "markdown",
      "source": [
        "There are 30,000 distinct credit card clients.\n",
        "\n",
        "The average value for the amount of credit card limit is 167,484. The standard deviation is unusually large, max value being 1M.\n",
        "\n",
        "Education level is mostly graduate school and university.\n",
        "\n",
        "Most of the clients are either marrined or single (less frequent the other status).\n",
        "\n",
        "Average age is 35.5 years, with a standard deviation of 9.2.\n",
        "\n",
        "As the value 0 for default payment means 'not default' and value 1 means 'default', the mean of 0.221 means that there are 22.1% of credit card contracts that will default next month (will verify this in the next sections of this analysis)."
      ],
      "metadata": {
        "id": "RfThGlNbACj5"
      }
    },
    {
      "cell_type": "markdown",
      "source": [
        "Check missing data\n",
        "\n",
        "Let's check if there is any missing data."
      ],
      "metadata": {
        "id": "cyzEHcDrAJH3"
      }
    },
    {
      "cell_type": "code",
      "source": [
        "total = data_df.isnull().sum().sort_values(ascending = False)\n",
        "percent = (data_df.isnull().sum()/data_df.isnull().count()*100).sort_values(ascending = False)\n",
        "pd.concat([total, percent], axis=1, keys=['Total', 'Percent']).transpose()"
      ],
      "metadata": {
        "colab": {
          "base_uri": "https://localhost:8080/",
          "height": 176
        },
        "id": "fRdUJ5gJxbqR",
        "outputId": "9807e11d-cef2-4387-8c80-128b726dff22"
      },
      "execution_count": null,
      "outputs": [
        {
          "output_type": "execute_result",
          "data": {
            "text/plain": [
              "          ID  BILL_AMT2  PAY_AMT6  PAY_AMT5  PAY_AMT4  PAY_AMT3  PAY_AMT2  \\\n",
              "Total    0.0        0.0       0.0       0.0       0.0       0.0       0.0   \n",
              "Percent  0.0        0.0       0.0       0.0       0.0       0.0       0.0   \n",
              "\n",
              "         PAY_AMT1  BILL_AMT6  BILL_AMT5  BILL_AMT4  BILL_AMT3  BILL_AMT1  \\\n",
              "Total         0.0        0.0        0.0        0.0        0.0        0.0   \n",
              "Percent       0.0        0.0        0.0        0.0        0.0        0.0   \n",
              "\n",
              "         LIMIT_BAL  PAY_6  PAY_5  PAY_4  PAY_3  PAY_2  PAY_0  AGE  MARRIAGE  \\\n",
              "Total          0.0    0.0    0.0    0.0    0.0    0.0    0.0  0.0       0.0   \n",
              "Percent        0.0    0.0    0.0    0.0    0.0    0.0    0.0  0.0       0.0   \n",
              "\n",
              "         EDUCATION  SEX  default.payment.next.month  \n",
              "Total          0.0  0.0                         0.0  \n",
              "Percent        0.0  0.0                         0.0  "
            ],
            "text/html": [
              "\n",
              "  <div id=\"df-a471f579-59ce-405d-b696-bb921561c511\">\n",
              "    <div class=\"colab-df-container\">\n",
              "      <div>\n",
              "<style scoped>\n",
              "    .dataframe tbody tr th:only-of-type {\n",
              "        vertical-align: middle;\n",
              "    }\n",
              "\n",
              "    .dataframe tbody tr th {\n",
              "        vertical-align: top;\n",
              "    }\n",
              "\n",
              "    .dataframe thead th {\n",
              "        text-align: right;\n",
              "    }\n",
              "</style>\n",
              "<table border=\"1\" class=\"dataframe\">\n",
              "  <thead>\n",
              "    <tr style=\"text-align: right;\">\n",
              "      <th></th>\n",
              "      <th>ID</th>\n",
              "      <th>BILL_AMT2</th>\n",
              "      <th>PAY_AMT6</th>\n",
              "      <th>PAY_AMT5</th>\n",
              "      <th>PAY_AMT4</th>\n",
              "      <th>PAY_AMT3</th>\n",
              "      <th>PAY_AMT2</th>\n",
              "      <th>PAY_AMT1</th>\n",
              "      <th>BILL_AMT6</th>\n",
              "      <th>BILL_AMT5</th>\n",
              "      <th>BILL_AMT4</th>\n",
              "      <th>BILL_AMT3</th>\n",
              "      <th>BILL_AMT1</th>\n",
              "      <th>LIMIT_BAL</th>\n",
              "      <th>PAY_6</th>\n",
              "      <th>PAY_5</th>\n",
              "      <th>PAY_4</th>\n",
              "      <th>PAY_3</th>\n",
              "      <th>PAY_2</th>\n",
              "      <th>PAY_0</th>\n",
              "      <th>AGE</th>\n",
              "      <th>MARRIAGE</th>\n",
              "      <th>EDUCATION</th>\n",
              "      <th>SEX</th>\n",
              "      <th>default.payment.next.month</th>\n",
              "    </tr>\n",
              "  </thead>\n",
              "  <tbody>\n",
              "    <tr>\n",
              "      <th>Total</th>\n",
              "      <td>0.0</td>\n",
              "      <td>0.0</td>\n",
              "      <td>0.0</td>\n",
              "      <td>0.0</td>\n",
              "      <td>0.0</td>\n",
              "      <td>0.0</td>\n",
              "      <td>0.0</td>\n",
              "      <td>0.0</td>\n",
              "      <td>0.0</td>\n",
              "      <td>0.0</td>\n",
              "      <td>0.0</td>\n",
              "      <td>0.0</td>\n",
              "      <td>0.0</td>\n",
              "      <td>0.0</td>\n",
              "      <td>0.0</td>\n",
              "      <td>0.0</td>\n",
              "      <td>0.0</td>\n",
              "      <td>0.0</td>\n",
              "      <td>0.0</td>\n",
              "      <td>0.0</td>\n",
              "      <td>0.0</td>\n",
              "      <td>0.0</td>\n",
              "      <td>0.0</td>\n",
              "      <td>0.0</td>\n",
              "      <td>0.0</td>\n",
              "    </tr>\n",
              "    <tr>\n",
              "      <th>Percent</th>\n",
              "      <td>0.0</td>\n",
              "      <td>0.0</td>\n",
              "      <td>0.0</td>\n",
              "      <td>0.0</td>\n",
              "      <td>0.0</td>\n",
              "      <td>0.0</td>\n",
              "      <td>0.0</td>\n",
              "      <td>0.0</td>\n",
              "      <td>0.0</td>\n",
              "      <td>0.0</td>\n",
              "      <td>0.0</td>\n",
              "      <td>0.0</td>\n",
              "      <td>0.0</td>\n",
              "      <td>0.0</td>\n",
              "      <td>0.0</td>\n",
              "      <td>0.0</td>\n",
              "      <td>0.0</td>\n",
              "      <td>0.0</td>\n",
              "      <td>0.0</td>\n",
              "      <td>0.0</td>\n",
              "      <td>0.0</td>\n",
              "      <td>0.0</td>\n",
              "      <td>0.0</td>\n",
              "      <td>0.0</td>\n",
              "      <td>0.0</td>\n",
              "    </tr>\n",
              "  </tbody>\n",
              "</table>\n",
              "</div>\n",
              "      <button class=\"colab-df-convert\" onclick=\"convertToInteractive('df-a471f579-59ce-405d-b696-bb921561c511')\"\n",
              "              title=\"Convert this dataframe to an interactive table.\"\n",
              "              style=\"display:none;\">\n",
              "        \n",
              "  <svg xmlns=\"http://www.w3.org/2000/svg\" height=\"24px\"viewBox=\"0 0 24 24\"\n",
              "       width=\"24px\">\n",
              "    <path d=\"M0 0h24v24H0V0z\" fill=\"none\"/>\n",
              "    <path d=\"M18.56 5.44l.94 2.06.94-2.06 2.06-.94-2.06-.94-.94-2.06-.94 2.06-2.06.94zm-11 1L8.5 8.5l.94-2.06 2.06-.94-2.06-.94L8.5 2.5l-.94 2.06-2.06.94zm10 10l.94 2.06.94-2.06 2.06-.94-2.06-.94-.94-2.06-.94 2.06-2.06.94z\"/><path d=\"M17.41 7.96l-1.37-1.37c-.4-.4-.92-.59-1.43-.59-.52 0-1.04.2-1.43.59L10.3 9.45l-7.72 7.72c-.78.78-.78 2.05 0 2.83L4 21.41c.39.39.9.59 1.41.59.51 0 1.02-.2 1.41-.59l7.78-7.78 2.81-2.81c.8-.78.8-2.07 0-2.86zM5.41 20L4 18.59l7.72-7.72 1.47 1.35L5.41 20z\"/>\n",
              "  </svg>\n",
              "      </button>\n",
              "      \n",
              "  <style>\n",
              "    .colab-df-container {\n",
              "      display:flex;\n",
              "      flex-wrap:wrap;\n",
              "      gap: 12px;\n",
              "    }\n",
              "\n",
              "    .colab-df-convert {\n",
              "      background-color: #E8F0FE;\n",
              "      border: none;\n",
              "      border-radius: 50%;\n",
              "      cursor: pointer;\n",
              "      display: none;\n",
              "      fill: #1967D2;\n",
              "      height: 32px;\n",
              "      padding: 0 0 0 0;\n",
              "      width: 32px;\n",
              "    }\n",
              "\n",
              "    .colab-df-convert:hover {\n",
              "      background-color: #E2EBFA;\n",
              "      box-shadow: 0px 1px 2px rgba(60, 64, 67, 0.3), 0px 1px 3px 1px rgba(60, 64, 67, 0.15);\n",
              "      fill: #174EA6;\n",
              "    }\n",
              "\n",
              "    [theme=dark] .colab-df-convert {\n",
              "      background-color: #3B4455;\n",
              "      fill: #D2E3FC;\n",
              "    }\n",
              "\n",
              "    [theme=dark] .colab-df-convert:hover {\n",
              "      background-color: #434B5C;\n",
              "      box-shadow: 0px 1px 3px 1px rgba(0, 0, 0, 0.15);\n",
              "      filter: drop-shadow(0px 1px 2px rgba(0, 0, 0, 0.3));\n",
              "      fill: #FFFFFF;\n",
              "    }\n",
              "  </style>\n",
              "\n",
              "      <script>\n",
              "        const buttonEl =\n",
              "          document.querySelector('#df-a471f579-59ce-405d-b696-bb921561c511 button.colab-df-convert');\n",
              "        buttonEl.style.display =\n",
              "          google.colab.kernel.accessAllowed ? 'block' : 'none';\n",
              "\n",
              "        async function convertToInteractive(key) {\n",
              "          const element = document.querySelector('#df-a471f579-59ce-405d-b696-bb921561c511');\n",
              "          const dataTable =\n",
              "            await google.colab.kernel.invokeFunction('convertToInteractive',\n",
              "                                                     [key], {});\n",
              "          if (!dataTable) return;\n",
              "\n",
              "          const docLinkHtml = 'Like what you see? Visit the ' +\n",
              "            '<a target=\"_blank\" href=https://colab.research.google.com/notebooks/data_table.ipynb>data table notebook</a>'\n",
              "            + ' to learn more about interactive tables.';\n",
              "          element.innerHTML = '';\n",
              "          dataTable['output_type'] = 'display_data';\n",
              "          await google.colab.output.renderOutput(dataTable, element);\n",
              "          const docLink = document.createElement('div');\n",
              "          docLink.innerHTML = docLinkHtml;\n",
              "          element.appendChild(docLink);\n",
              "        }\n",
              "      </script>\n",
              "    </div>\n",
              "  </div>\n",
              "  "
            ]
          },
          "metadata": {},
          "execution_count": 34
        }
      ]
    },
    {
      "cell_type": "markdown",
      "source": [
        "Data exploration\n",
        "\n",
        "Amount of credit limit"
      ],
      "metadata": {
        "id": "1hE33L8PAU6E"
      }
    },
    {
      "cell_type": "code",
      "source": [
        "plt.figure(figsize = (14,6))\n",
        "plt.title('Amount of credit limit - Density Plot')\n",
        "sns.set_color_codes(\"pastel\")\n",
        "sns.distplot(data_df['LIMIT_BAL'],kde=True,bins=200, color=\"blue\")\n",
        "plt.show()\n"
      ],
      "metadata": {
        "colab": {
          "base_uri": "https://localhost:8080/",
          "height": 462
        },
        "id": "Z2pBKPiHx7ah",
        "outputId": "2e06fea1-3600-44b3-f067-6b736d323d55"
      },
      "execution_count": null,
      "outputs": [
        {
          "output_type": "stream",
          "name": "stderr",
          "text": [
            "/usr/local/lib/python3.7/dist-packages/seaborn/distributions.py:2619: FutureWarning: `distplot` is a deprecated function and will be removed in a future version. Please adapt your code to use either `displot` (a figure-level function with similar flexibility) or `histplot` (an axes-level function for histograms).\n",
            "  warnings.warn(msg, FutureWarning)\n"
          ]
        },
        {
          "output_type": "display_data",
          "data": {
            "text/plain": [
              "<Figure size 1008x432 with 1 Axes>"
            ],
            "image/png": "[encoded data removed]"
          },
          "metadata": {
            "needs_background": "light"
          }
        }
      ]
    },
    {
      "cell_type": "markdown",
      "source": [
        "Largest group of amount of credit limit is apparently for amount of 50K. Let's verify this."
      ],
      "metadata": {
        "id": "jhM36azAAblW"
      }
    },
    {
      "cell_type": "code",
      "source": [
        "data_df['LIMIT_BAL'].value_counts().shape\n"
      ],
      "metadata": {
        "colab": {
          "base_uri": "https://localhost:8080/"
        },
        "id": "en2W-O4xyBFU",
        "outputId": "bc87175e-1f97-4cd0-d90b-85e1a17333a2"
      },
      "execution_count": null,
      "outputs": [
        {
          "output_type": "execute_result",
          "data": {
            "text/plain": [
              "(81,)"
            ]
          },
          "metadata": {},
          "execution_count": 36
        }
      ]
    },
    {
      "cell_type": "markdown",
      "source": [
        "There are 81 distinct values for amount of credit limit."
      ],
      "metadata": {
        "id": "TU_L4q0yAidW"
      }
    },
    {
      "cell_type": "code",
      "source": [
        "data_df['LIMIT_BAL'].value_counts().head(5)"
      ],
      "metadata": {
        "colab": {
          "base_uri": "https://localhost:8080/"
        },
        "id": "YnPmERZx3KDx",
        "outputId": "de4a93f4-3e47-40f3-8d46-8a944bbd5281"
      },
      "execution_count": null,
      "outputs": [
        {
          "output_type": "execute_result",
          "data": {
            "text/plain": [
              "50000.0     3365\n",
              "20000.0     1976\n",
              "30000.0     1610\n",
              "80000.0     1567\n",
              "200000.0    1528\n",
              "Name: LIMIT_BAL, dtype: int64"
            ]
          },
          "metadata": {},
          "execution_count": 37
        }
      ]
    },
    {
      "cell_type": "markdown",
      "source": [
        "Indeed, the largest number of credit cards are with limit of 50,000 (3365), followed by 20,000 (1976) and 30,000 (1610)."
      ],
      "metadata": {
        "id": "MjjtMQHcArBz"
      }
    },
    {
      "cell_type": "markdown",
      "source": [
        "Amount of credit limit grouped by default payment next month\n",
        "Let's visualize the density plot for amount of credit limit (LIMIT_BAL), grouped by default payment next month.\n",
        "\n"
      ],
      "metadata": {
        "id": "-ABPRRWiAvUm"
      }
    },
    {
      "cell_type": "code",
      "source": [
        "class_0 = data_df.loc[data_df['default.payment.next.month'] == 0][\"LIMIT_BAL\"]\n",
        "class_1 = data_df.loc[data_df['default.payment.next.month'] == 1][\"LIMIT_BAL\"]\n",
        "plt.figure(figsize = (14,6))\n",
        "plt.title('Default amount of credit limit  - grouped by Payment Next Month (Density Plot)')\n",
        "sns.set_color_codes(\"pastel\")\n",
        "sns.distplot(class_1,kde=True,bins=200, color=\"red\")\n",
        "sns.distplot(class_0,kde=True,bins=200, color=\"green\")\n",
        "plt.show()\n"
      ],
      "metadata": {
        "colab": {
          "base_uri": "https://localhost:8080/",
          "height": 498
        },
        "id": "YgHBo2PN3Odz",
        "outputId": "972e6bec-789d-45f7-9527-eda3ecc01d94"
      },
      "execution_count": null,
      "outputs": [
        {
          "output_type": "stream",
          "name": "stderr",
          "text": [
            "/usr/local/lib/python3.7/dist-packages/seaborn/distributions.py:2619: FutureWarning: `distplot` is a deprecated function and will be removed in a future version. Please adapt your code to use either `displot` (a figure-level function with similar flexibility) or `histplot` (an axes-level function for histograms).\n",
            "  warnings.warn(msg, FutureWarning)\n",
            "/usr/local/lib/python3.7/dist-packages/seaborn/distributions.py:2619: FutureWarning: `distplot` is a deprecated function and will be removed in a future version. Please adapt your code to use either `displot` (a figure-level function with similar flexibility) or `histplot` (an axes-level function for histograms).\n",
            "  warnings.warn(msg, FutureWarning)\n"
          ]
        },
        {
          "output_type": "display_data",
          "data": {
            "text/plain": [
              "<Figure size 1008x432 with 1 Axes>"
            ],
            "image/png": "[encoded data removed]"
          },
          "metadata": {
            "needs_background": "light"
          }
        }
      ]
    },
    {
      "cell_type": "markdown",
      "source": [
        "Most of defaults are for credit limits 0-100,000 (and density for this interval is larger for defaults than for non-defaults). Larger defaults number are for the amounts of 50,000, 20,000 and 30,000."
      ],
      "metadata": {
        "id": "DzjQRYEbA3xl"
      }
    },
    {
      "cell_type": "markdown",
      "source": [
        "Credit limit vs. sex\n",
        "Let's check the credit limit distribution vs. sex. For the sex, 1 stands for male and 2 for female."
      ],
      "metadata": {
        "id": "xi-ZLaFnA87e"
      }
    },
    {
      "cell_type": "code",
      "source": [
        "fig, (ax1, ax2) = plt.subplots(ncols=2, figsize=(12,6))\n",
        "s = sns.boxplot(ax = ax1, x=\"SEX\", y=\"LIMIT_BAL\", hue=\"SEX\",data=data_df, palette=\"PRGn\",showfliers=True)\n",
        "s = sns.boxplot(ax = ax2, x=\"SEX\", y=\"LIMIT_BAL\", hue=\"SEX\",data=data_df, palette=\"PRGn\",showfliers=False)\n",
        "plt.show();\n"
      ],
      "metadata": {
        "colab": {
          "base_uri": "https://localhost:8080/",
          "height": 399
        },
        "id": "5dHprjIJ3T0Q",
        "outputId": "d9039f8c-2ca7-4b64-dcda-8b416cd56e01"
      },
      "execution_count": null,
      "outputs": [
        {
          "output_type": "display_data",
          "data": {
            "text/plain": [
              "<Figure size 864x432 with 2 Axes>"
            ],
            "image/png": "[encoded data removed]"
          },
          "metadata": {
            "needs_background": "light"
          }
        }
      ]
    },
    {
      "cell_type": "markdown",
      "source": [
        "The limit credit amount is quite balanced between sexes. The males have a slightly smaller Q2 and larger Q3 and Q4 and a lower mean. The female have a larger outlier max value (1M NT dollars)."
      ],
      "metadata": {
        "id": "JYjSRx5zBGKL"
      }
    },
    {
      "cell_type": "markdown",
      "source": [
        "Features correlation\n",
        "\n",
        "For the numeric values, let's represent the features correlation.\n",
        "\n",
        "Let's check the correlation of Amount of bill statement in April - September 2005.\n",
        "\n"
      ],
      "metadata": {
        "id": "cVxGbX2GBKKJ"
      }
    },
    {
      "cell_type": "code",
      "source": [
        "var = ['BILL_AMT1','BILL_AMT2','BILL_AMT3','BILL_AMT4','BILL_AMT5','BILL_AMT6']\n",
        "\n",
        "plt.figure(figsize = (8,8))\n",
        "plt.title('Amount of bill statement (Apr-Sept) \\ncorrelation plot (Pearson)')\n",
        "corr = data_df[var].corr()\n",
        "sns.heatmap(corr,xticklabels=corr.columns,yticklabels=corr.columns,linewidths=.1,vmin=-1, vmax=1)\n",
        "plt.show()"
      ],
      "metadata": {
        "colab": {
          "base_uri": "https://localhost:8080/",
          "height": 515
        },
        "id": "92X1N58a3X6B",
        "outputId": "674e6304-4935-4aa0-8ec0-0ad2dbee074c"
      },
      "execution_count": null,
      "outputs": [
        {
          "output_type": "display_data",
          "data": {
            "text/plain": [
              "<Figure size 576x576 with 2 Axes>"
            ],
            "image/png": "[encoded data removed]"
          },
          "metadata": {
            "needs_background": "light"
          }
        }
      ]
    },
    {
      "cell_type": "markdown",
      "source": [
        "Correlation is decreasing with distance between months. Lowest correlations are between Sept-April.\n",
        "\n",
        "Let's check the correlation of Amount of previous payment in April - September 2005."
      ],
      "metadata": {
        "id": "JLDdcf5jBQDj"
      }
    },
    {
      "cell_type": "code",
      "source": [
        "var = ['PAY_AMT1', 'PAY_AMT2', 'PAY_AMT3', 'PAY_AMT4', 'PAY_AMT5']\n",
        "\n",
        "plt.figure(figsize = (8,8))\n",
        "plt.title('Amount of previous payment (Apr-Sept) \\ncorrelation plot (Pearson)')\n",
        "corr = data_df[var].corr()\n",
        "sns.heatmap(corr,xticklabels=corr.columns,yticklabels=corr.columns,linewidths=.1,vmin=-1, vmax=1)\n",
        "plt.show()\n"
      ],
      "metadata": {
        "colab": {
          "base_uri": "https://localhost:8080/",
          "height": 515
        },
        "id": "Xtzys2qz3bnu",
        "outputId": "94552de2-0ee9-430c-f98a-42e8864b5c69"
      },
      "execution_count": null,
      "outputs": [
        {
          "output_type": "display_data",
          "data": {
            "text/plain": [
              "<Figure size 576x576 with 2 Axes>"
            ],
            "image/png": "[encoded data removed]"
          },
          "metadata": {
            "needs_background": "light"
          }
        }
      ]
    },
    {
      "cell_type": "markdown",
      "source": [
        "There are no correlations between amounts of previous payments for April-Sept 2005.\n",
        "\n",
        "Let's check the correlation between Repayment status in April - September 2005."
      ],
      "metadata": {
        "id": "d-cS3f08BUyC"
      }
    },
    {
      "cell_type": "code",
      "source": [
        "var = ['PAY_0','PAY_2', 'PAY_3', 'PAY_4', 'PAY_5', 'PAY_6']\n",
        "\n",
        "plt.figure(figsize = (8,8))\n",
        "plt.title('Repayment status (Apr-Sept) \\ncorrelation plot (Pearson)')\n",
        "corr = data_df[var].corr()\n",
        "sns.heatmap(corr,xticklabels=corr.columns,yticklabels=corr.columns,linewidths=.1,vmin=-1, vmax=1)\n",
        "plt.show()\n"
      ],
      "metadata": {
        "colab": {
          "base_uri": "https://localhost:8080/",
          "height": 515
        },
        "id": "1tBikfFu3emk",
        "outputId": "8e0275eb-ba58-4841-baa8-5271b56cce96"
      },
      "execution_count": null,
      "outputs": [
        {
          "output_type": "display_data",
          "data": {
            "text/plain": [
              "<Figure size 576x576 with 2 Axes>"
            ],
            "image/png": "[encoded data removed]"
          },
          "metadata": {
            "needs_background": "light"
          }
        }
      ]
    },
    {
      "cell_type": "markdown",
      "source": [
        "Correlation is decreasing with distance between months. Lowest correlations are between Sept-April."
      ],
      "metadata": {
        "id": "cj3M2haHBZ_R"
      }
    },
    {
      "cell_type": "markdown",
      "source": [
        "Sex, Education, Age and Marriage\n",
        "Let's show sex, education, age and marriage distributions.\n",
        "\n",
        "We start by showing the boxplots with age distribution grouped by marriage status and sex.\n",
        "\n",
        "Marriage status meaning is:\n",
        "\n",
        "0 : unknown (let's consider as others as well)\n",
        "1 : married\n",
        "2 : single\n",
        "3 : others\n",
        "Sex meaning is:\n",
        "\n",
        "1 : male\n",
        "2 : female"
      ],
      "metadata": {
        "id": "a5x_GafFBgXg"
      }
    },
    {
      "cell_type": "code",
      "source": [
        "def boxplot_variation(feature1, feature2, feature3, width=16):\n",
        "    fig, ax1 = plt.subplots(ncols=1, figsize=(width,6))\n",
        "    s = sns.boxplot(ax = ax1, x=feature1, y=feature2, hue=feature3,\n",
        "                data=data_df, palette=\"PRGn\",showfliers=False)\n",
        "    s.set_xticklabels(s.get_xticklabels(),rotation=90)\n",
        "    plt.show();\n"
      ],
      "metadata": {
        "id": "eYPfGPvD3iIf"
      },
      "execution_count": null,
      "outputs": []
    },
    {
      "cell_type": "code",
      "source": [
        "boxplot_variation('MARRIAGE','AGE', 'SEX',8)"
      ],
      "metadata": {
        "colab": {
          "base_uri": "https://localhost:8080/",
          "height": 384
        },
        "id": "YLVXDMgV3nwe",
        "outputId": "26955863-a1a8-48e2-e792-f37c219d31c1"
      },
      "execution_count": null,
      "outputs": [
        {
          "output_type": "display_data",
          "data": {
            "text/plain": [
              "<Figure size 576x432 with 1 Axes>"
            ],
            "image/png": "[encoded data removed]"
          },
          "metadata": {
            "needs_background": "light"
          }
        }
      ]
    },
    {
      "cell_type": "markdown",
      "source": [
        "It looks like Married status 3 (others), with mean values over 40 and Q4 values over 60 means mostly vidowed or divorced whilst Married status 0 could be not specified or divorced, as Q1 values are above values for married of both sexes.\n",
        "\n",
        "Married males have mean age above married women. Unmarried males have mean value for age above unmarried women as well but closer. Q3 abd Q4 values for married man are above corresponding values for married women.\n",
        "\n",
        "Let's show the boxplots with age distribution grouped by education and marriage.\n",
        "\n",
        "Education status meaning is:\n",
        "\n",
        "1 : graduate school\n",
        "2 : university\n",
        "3 : high school\n",
        "4 : others\n",
        "5 : unknown\n",
        "6 : unknow\n"
      ],
      "metadata": {
        "id": "XbNnC-LpBqAB"
      }
    },
    {
      "cell_type": "code",
      "source": [
        "boxplot_variation('EDUCATION','AGE', 'MARRIAGE',12)\n"
      ],
      "metadata": {
        "colab": {
          "base_uri": "https://localhost:8080/",
          "height": 384
        },
        "id": "E9gxsEfs3qxB",
        "outputId": "ef76f339-8ed1-4d91-93a7-a7abc4d2ae62"
      },
      "execution_count": null,
      "outputs": [
        {
          "output_type": "display_data",
          "data": {
            "text/plain": [
              "<Figure size 864x432 with 1 Axes>"
            ],
            "image/png": "[encoded data removed]"
          },
          "metadata": {
            "needs_background": "light"
          }
        }
      ]
    },
    {
      "cell_type": "markdown",
      "source": [
        "Age, sex and credit amount limit\n",
        "Let's show the boxplots with credit amount limit distribution grouped by age and sex."
      ],
      "metadata": {
        "id": "uhg1cP8TByi5"
      }
    },
    {
      "cell_type": "code",
      "source": [
        "boxplot_variation('AGE','LIMIT_BAL', 'SEX',16)\n"
      ],
      "metadata": {
        "colab": {
          "base_uri": "https://localhost:8080/",
          "height": 391
        },
        "id": "UA_4ZqvW3vv0",
        "outputId": "eea81c58-6fc2-41c2-889a-d9fdead610e3"
      },
      "execution_count": null,
      "outputs": [
        {
          "output_type": "display_data",
          "data": {
            "text/plain": [
              "<Figure size 1152x432 with 1 Axes>"
            ],
            "image/png": "[encoded data removed]"
          },
          "metadata": {
            "needs_background": "light"
          }
        }
      ]
    },
    {
      "cell_type": "markdown",
      "source": [
        "Mean, Q3 and Q4 values are increasing for both male and female with age until aroung 35 years and then they are oscilating and get to a maximum of Q4 for males at age 64.\n",
        "\n",
        "Mean values are generally smaller for males than for females, with few exceptions, for example at age 39, 48, until approximately 60, where mean values for males are generally larger than for females."
      ],
      "metadata": {
        "id": "6IfbheRcB4IQ"
      }
    },
    {
      "cell_type": "markdown",
      "source": [
        "Marriage status, education level and credit amount limit\n",
        "\n",
        "Let's show the boxplots with credit amount limit distribution grouped by marriage status and education level."
      ],
      "metadata": {
        "id": "kp7DU3RHB9wJ"
      }
    },
    {
      "cell_type": "code",
      "source": [
        "boxplot_variation('MARRIAGE','LIMIT_BAL', 'EDUCATION',12)"
      ],
      "metadata": {
        "colab": {
          "base_uri": "https://localhost:8080/",
          "height": 384
        },
        "id": "A0rCxL5i3zu7",
        "outputId": "23ad5181-e8f4-4d40-fb8b-e4ce90407401"
      },
      "execution_count": null,
      "outputs": [
        {
          "output_type": "display_data",
          "data": {
            "text/plain": [
              "<Figure size 864x432 with 1 Axes>"
            ],
            "image/png": "[encoded data removed]"
          },
          "metadata": {
            "needs_background": "light"
          }
        }
      ]
    },
    {
      "cell_type": "markdown",
      "source": [
        "Predictive models\n",
        "\n",
        "Define predictors and target values\n",
        "Let's define the predictor features and the target features. Categorical features, if any, are also defined. In our case, there are no categorical feature."
      ],
      "metadata": {
        "id": "rioq5SYUCNWl"
      }
    },
    {
      "cell_type": "code",
      "source": [
        "target = 'default.payment.next.month'\n",
        "predictors = [  'LIMIT_BAL', 'SEX', 'EDUCATION', 'MARRIAGE', 'AGE', \n",
        "                'PAY_0', 'PAY_2', 'PAY_3', 'PAY_4', 'PAY_5', 'PAY_6', \n",
        "                'BILL_AMT1','BILL_AMT2', 'BILL_AMT3', 'BILL_AMT4', 'BILL_AMT5', 'BILL_AMT6',\n",
        "                'PAY_AMT1', 'PAY_AMT2', 'PAY_AMT3', 'PAY_AMT4', 'PAY_AMT5', 'PAY_AMT6']\n"
      ],
      "metadata": {
        "id": "WvwchDeG34WU"
      },
      "execution_count": null,
      "outputs": []
    },
    {
      "cell_type": "markdown",
      "source": [
        "Split data in train and validation set\n",
        "Let's define train and validation sets."
      ],
      "metadata": {
        "id": "iHIERHvCCUaT"
      }
    },
    {
      "cell_type": "code",
      "source": [
        "train_df, val_df = train_test_split(data_df, test_size=VALID_SIZE, random_state=RANDOM_STATE, shuffle=True )\n"
      ],
      "metadata": {
        "id": "EAgVnONA38Js"
      },
      "execution_count": null,
      "outputs": []
    },
    {
      "cell_type": "markdown",
      "source": [
        "We also make copies of the train_df and val_df for later usage."
      ],
      "metadata": {
        "id": "h5ss_f75CZPx"
      }
    },
    {
      "cell_type": "code",
      "source": [
        "train_df_bkp = train_df.copy()\n",
        "val_df_bkp = val_df.copy()\n"
      ],
      "metadata": {
        "id": "_ZOmebAv3_ta"
      },
      "execution_count": null,
      "outputs": []
    },
    {
      "cell_type": "markdown",
      "source": [
        "RandomForestClassifier\n",
        "\n",
        "Let's run a model using the training set for training. Then, we will use the validation set for validation.\n",
        "\n",
        "Metric\n",
        "We will use as validation criterion GINI, which formula is GINI = 2 * (AUC) - 1, where AUC is the Receiver Operating Characteristic - Area Under Curve (ROC-AUC) [4]. Number of estimators is set to 100 and number of parallel jobs is set to 4.\n",
        "\n",
        "We start by initializing the RandomForestClassifier."
      ],
      "metadata": {
        "id": "DCWgA5j1CfD6"
      }
    },
    {
      "cell_type": "code",
      "source": [
        "clf = RandomForestClassifier(n_jobs=NO_JOBS, \n",
        "                             random_state=RANDOM_STATE,\n",
        "                             criterion=RFC_METRIC,\n",
        "                             n_estimators=NUM_ESTIMATORS,\n",
        "                             verbose=False)"
      ],
      "metadata": {
        "id": "RCTszlet4DBe"
      },
      "execution_count": null,
      "outputs": []
    },
    {
      "cell_type": "markdown",
      "source": [
        "Let's train the RandonForestClassifier using the train_df data and fit function."
      ],
      "metadata": {
        "id": "wTI-9XNMCped"
      }
    },
    {
      "cell_type": "code",
      "source": [
        "clf.fit(train_df[predictors], train_df[target].values)"
      ],
      "metadata": {
        "colab": {
          "base_uri": "https://localhost:8080/"
        },
        "id": "u2Tfnf9x4GxK",
        "outputId": "f27a4511-8f1c-4229-c5ee-d8dea4b844b7"
      },
      "execution_count": null,
      "outputs": [
        {
          "output_type": "execute_result",
          "data": {
            "text/plain": [
              "RandomForestClassifier(n_jobs=4, random_state=2018, verbose=False)"
            ]
          },
          "metadata": {},
          "execution_count": 52
        }
      ]
    },
    {
      "cell_type": "markdown",
      "source": [
        "Let's now predict the target values for the val_df data, using predict function."
      ],
      "metadata": {
        "id": "elArj4DpCvGp"
      }
    },
    {
      "cell_type": "code",
      "source": [
        "preds = clf.predict(val_df[predictors])"
      ],
      "metadata": {
        "id": "rLsjjeNL4KVb"
      },
      "execution_count": null,
      "outputs": []
    },
    {
      "cell_type": "markdown",
      "source": [
        "Let's also visualize the features importance.\n",
        "\n",
        "Features importance"
      ],
      "metadata": {
        "id": "TdUyUewcC2HS"
      }
    },
    {
      "cell_type": "code",
      "source": [
        "tmp = pd.DataFrame({'Feature': predictors, 'Feature importance': clf.feature_importances_})\n",
        "tmp = tmp.sort_values(by='Feature importance',ascending=False)\n",
        "plt.figure(figsize = (7,4))\n",
        "plt.title('Features importance',fontsize=14)\n",
        "s = sns.barplot(x='Feature',y='Feature importance',data=tmp)\n",
        "s.set_xticklabels(s.get_xticklabels(),rotation=90)\n",
        "plt.show()   "
      ],
      "metadata": {
        "colab": {
          "base_uri": "https://localhost:8080/",
          "height": 345
        },
        "id": "AaI2DfRs4QTB",
        "outputId": "a273a4b3-c9d2-43ee-e145-02f500dc9118"
      },
      "execution_count": null,
      "outputs": [
        {
          "output_type": "display_data",
          "data": {
            "text/plain": [
              "<Figure size 504x288 with 1 Axes>"
            ],
            "image/png": "[encoded data removed]"
          },
          "metadata": {
            "needs_background": "light"
          }
        }
      ]
    },
    {
      "cell_type": "markdown",
      "source": [
        "The most important features are PAY_0, AGE, BILL_AMT1, LIMIT_BAL, BILL_AMT2, BILL_AMT3."
      ],
      "metadata": {
        "id": "DP-ol2voC8mj"
      }
    },
    {
      "cell_type": "markdown",
      "source": [
        "Confusion matrix\n",
        "\n",
        "Let's show a confusion matrix for the results we obtained."
      ],
      "metadata": {
        "id": "epW2oKEgC9ck"
      }
    },
    {
      "cell_type": "code",
      "source": [
        "cm = pd.crosstab(val_df[target].values, preds, rownames=['Actual'], colnames=['Predicted'])\n",
        "fig, (ax1) = plt.subplots(ncols=1, figsize=(5,5))\n",
        "sns.heatmap(cm, \n",
        "            xticklabels=['Not Default', 'Default'],\n",
        "            yticklabels=['Not Default', 'Default'],\n",
        "            annot=True,ax=ax1,\n",
        "            linewidths=.2,linecolor=\"Darkblue\", cmap=\"Blues\")\n",
        "plt.title('Confusion Matrix', fontsize=14)\n",
        "plt.show()"
      ],
      "metadata": {
        "colab": {
          "base_uri": "https://localhost:8080/",
          "height": 351
        },
        "id": "R5D1IS-V4TXU",
        "outputId": "7afb4144-8987-4cbd-e70a-269d243bc285"
      },
      "execution_count": null,
      "outputs": [
        {
          "output_type": "display_data",
          "data": {
            "text/plain": [
              "<Figure size 360x360 with 2 Axes>"
            ],
            "image/png": "[encoded data removed]"
          },
          "metadata": {
            "needs_background": "light"
          }
        }
      ]
    },
    {
      "cell_type": "markdown",
      "source": [
        "We also calculate area under curve (receiver operator characteristic).\n",
        "\n"
      ],
      "metadata": {
        "id": "LB0-Xl7MDKA9"
      }
    },
    {
      "cell_type": "code",
      "source": [
        "roc_auc_score(val_df[target].values, preds)\n"
      ],
      "metadata": {
        "colab": {
          "base_uri": "https://localhost:8080/"
        },
        "id": "GEEt5-oY4Y-m",
        "outputId": "7f8dc059-dbdf-4a57-8d5d-af3a5033eb67"
      },
      "execution_count": null,
      "outputs": [
        {
          "output_type": "execute_result",
          "data": {
            "text/plain": [
              "0.6625018741566295"
            ]
          },
          "metadata": {},
          "execution_count": 56
        }
      ]
    },
    {
      "cell_type": "markdown",
      "source": [
        "The ROC-AUC score obtained with RandomForrestClassifier is 0.66.\n",
        "\n",
        "Let's use for RandomForrestClassifier dummified variables for the categorical features.\n",
        "\n",
        "We start by defining the categorical features."
      ],
      "metadata": {
        "id": "1PazlXUZDR20"
      }
    },
    {
      "cell_type": "markdown",
      "source": [
        "RandomForrest with OneHotEncoder"
      ],
      "metadata": {
        "id": "iMbGW2BfDW9M"
      }
    },
    {
      "cell_type": "code",
      "source": [
        "cat_features = ['EDUCATION', 'SEX', 'MARRIAGE', 'PAY_0', 'PAY_2', 'PAY_3', 'PAY_4', 'PAY_5', 'PAY_6']"
      ],
      "metadata": {
        "id": "ECL3goSY4cbn"
      },
      "execution_count": null,
      "outputs": []
    },
    {
      "cell_type": "code",
      "source": [
        "train_f_df = pd.get_dummies(train_df_bkp, columns = cat_features)\n",
        "val_f_df = pd.get_dummies(val_df_bkp, columns = cat_features)"
      ],
      "metadata": {
        "id": "rMJcIgfP4f5P"
      },
      "execution_count": null,
      "outputs": []
    },
    {
      "cell_type": "code",
      "source": [
        "print(\"Default of Credit Card Clients train data -  rows:\",train_f_df.shape[0],\" columns:\", train_f_df.shape[1])\n",
        "print(\"Default of Credit Card Clients val  data -  rows:\",val_f_df.shape[0],\" columns:\", val_f_df.shape[1])"
      ],
      "metadata": {
        "colab": {
          "base_uri": "https://localhost:8080/"
        },
        "id": "vIOo7l4I4i75",
        "outputId": "990466bc-c04d-4d83-aee5-7ede17df039e"
      },
      "execution_count": null,
      "outputs": [
        {
          "output_type": "stream",
          "name": "stdout",
          "text": [
            "Default of Credit Card Clients train data -  rows: 24000  columns: 93\n",
            "Default of Credit Card Clients val  data -  rows: 6000  columns: 86\n"
          ]
        }
      ]
    },
    {
      "cell_type": "markdown",
      "source": [
        "Because train and validation data does not have the same number of columns, we will align them"
      ],
      "metadata": {
        "id": "zQRWRA-NDdGE"
      }
    },
    {
      "cell_type": "code",
      "source": [
        "train_fa_df, val_fa_df = train_f_df.align(val_f_df, join='outer', axis=1, fill_value=0)\n"
      ],
      "metadata": {
        "id": "82YSyvLE4lhk"
      },
      "execution_count": null,
      "outputs": []
    },
    {
      "cell_type": "markdown",
      "source": [
        "Let's check again the data."
      ],
      "metadata": {
        "id": "Z908rvjZDpBe"
      }
    },
    {
      "cell_type": "code",
      "source": [
        "print(\"Default of Credit Card Clients train data -  rows:\",train_fa_df.shape[0],\" columns:\", train_fa_df.shape[1])\n",
        "print(\"Default of Credit Card Clients val  data -  rows:\",val_fa_df.shape[0],\" columns:\", val_fa_df.shape[1])\n"
      ],
      "metadata": {
        "colab": {
          "base_uri": "https://localhost:8080/"
        },
        "id": "jphu64cm4pct",
        "outputId": "001106a9-6334-466f-b184-2d04cf7b89ba"
      },
      "execution_count": null,
      "outputs": [
        {
          "output_type": "stream",
          "name": "stdout",
          "text": [
            "Default of Credit Card Clients train data -  rows: 24000  columns: 93\n",
            "Default of Credit Card Clients val  data -  rows: 6000  columns: 93\n"
          ]
        }
      ]
    },
    {
      "cell_type": "code",
      "source": [
        "train_fa_df.head(5)\n"
      ],
      "metadata": {
        "colab": {
          "base_uri": "https://localhost:8080/",
          "height": 270
        },
        "id": "wiSWaY_P4sjh",
        "outputId": "e72b3dab-49b2-4a6b-a69e-cb46db615497"
      },
      "execution_count": null,
      "outputs": [
        {
          "output_type": "execute_result",
          "data": {
            "text/plain": [
              "       AGE  BILL_AMT1  BILL_AMT2  BILL_AMT3  BILL_AMT4  BILL_AMT5  BILL_AMT6  \\\n",
              "22659   48   175095.0   175522.0   173918.0   174074.0   178671.0   178869.0   \n",
              "6618    37     8788.0    40927.0    28306.0    31578.0    21195.0    11776.0   \n",
              "26605   23     2400.0     2400.0     2400.0     2400.0     2400.0     1800.0   \n",
              "2504    30      440.0    30404.0        0.0      880.0      150.0      430.0   \n",
              "1111    44     3424.0      155.0     1922.0     1473.0     1865.0      835.0   \n",
              "\n",
              "       EDUCATION_0  EDUCATION_1  EDUCATION_2  EDUCATION_3  EDUCATION_4  \\\n",
              "22659            0            0            0            1            0   \n",
              "6618             0            0            1            0            0   \n",
              "26605            0            0            1            0            0   \n",
              "2504             0            0            1            0            0   \n",
              "1111             0            0            0            1            0   \n",
              "\n",
              "       EDUCATION_5  EDUCATION_6     ID  LIMIT_BAL  MARRIAGE_0  MARRIAGE_1  \\\n",
              "22659            0            0  22660   150000.0           0           0   \n",
              "6618             0            0   6619   180000.0           0           0   \n",
              "26605            0            0  26606    20000.0           0           0   \n",
              "2504             0            0   2505   180000.0           0           0   \n",
              "1111             0            0   1112    50000.0           0           1   \n",
              "\n",
              "       MARRIAGE_2  MARRIAGE_3  PAY_0_-1  PAY_0_-2  PAY_0_0  PAY_0_1  PAY_0_2  \\\n",
              "22659           1           0         0         0        1        0        0   \n",
              "6618            1           0         1         0        0        0        0   \n",
              "26605           1           0         0         0        0        0        0   \n",
              "2504            1           0         1         0        0        0        0   \n",
              "1111            0           0         1         0        0        0        0   \n",
              "\n",
              "       PAY_0_3  PAY_0_4  PAY_0_5  PAY_0_6  PAY_0_7  PAY_0_8  PAY_2_-1  \\\n",
              "22659        0        0        0        0        0        0         0   \n",
              "6618         0        0        0        0        0        0         1   \n",
              "26605        1        0        0        0        0        0         0   \n",
              "2504         0        0        0        0        0        0         1   \n",
              "1111         0        0        0        0        0        0         1   \n",
              "\n",
              "       PAY_2_-2  PAY_2_0  PAY_2_1  PAY_2_2  PAY_2_3  PAY_2_4  PAY_2_5  \\\n",
              "22659         0        1        0        0        0        0        0   \n",
              "6618          0        0        0        0        0        0        0   \n",
              "26605         0        0        0        1        0        0        0   \n",
              "2504          0        0        0        0        0        0        0   \n",
              "1111          0        0        0        0        0        0        0   \n",
              "\n",
              "       PAY_2_6  PAY_2_7  PAY_2_8  PAY_3_-1  PAY_3_-2  PAY_3_0  PAY_3_1  \\\n",
              "22659        0        0        0         0         0        1        0   \n",
              "6618         0        0        0         0         0        1        0   \n",
              "26605        0        0        0         0         0        0        0   \n",
              "2504         0        0        0         1         0        0        0   \n",
              "1111         0        0        0         1         0        0        0   \n",
              "\n",
              "       PAY_3_2  PAY_3_3  PAY_3_4  PAY_3_5  PAY_3_6  PAY_3_7  PAY_3_8  \\\n",
              "22659        0        0        0        0        0        0        0   \n",
              "6618         0        0        0        0        0        0        0   \n",
              "26605        1        0        0        0        0        0        0   \n",
              "2504         0        0        0        0        0        0        0   \n",
              "1111         0        0        0        0        0        0        0   \n",
              "\n",
              "       PAY_4_-1  PAY_4_-2  PAY_4_0  PAY_4_1  PAY_4_2  PAY_4_3  PAY_4_4  \\\n",
              "22659         0         0        1        0        0        0        0   \n",
              "6618          0         0        1        0        0        0        0   \n",
              "26605         0         0        0        0        0        0        0   \n",
              "2504          1         0        0        0        0        0        0   \n",
              "1111          1         0        0        0        0        0        0   \n",
              "\n",
              "       PAY_4_5  PAY_4_6  PAY_4_7  PAY_4_8  PAY_5_-1  PAY_5_-2  PAY_5_0  \\\n",
              "22659        0        0        0        0         0         0        1   \n",
              "6618         0        0        0        0         0         0        1   \n",
              "26605        0        0        1        0         0         0        0   \n",
              "2504         0        0        0        0         1         0        0   \n",
              "1111         0        0        0        0         1         0        0   \n",
              "\n",
              "       PAY_5_2  PAY_5_3  PAY_5_4  PAY_5_5  PAY_5_6  PAY_5_7  PAY_5_8  \\\n",
              "22659        0        0        0        0        0        0        0   \n",
              "6618         0        0        0        0        0        0        0   \n",
              "26605        0        0        0        0        0        1        0   \n",
              "2504         0        0        0        0        0        0        0   \n",
              "1111         0        0        0        0        0        0        0   \n",
              "\n",
              "       PAY_6_-1  PAY_6_-2  PAY_6_0  PAY_6_2  PAY_6_3  PAY_6_4  PAY_6_5  \\\n",
              "22659         0         0        1        0        0        0        0   \n",
              "6618          1         0        0        0        0        0        0   \n",
              "26605         0         0        0        0        0        0        0   \n",
              "2504          1         0        0        0        0        0        0   \n",
              "1111          1         0        0        0        0        0        0   \n",
              "\n",
              "       PAY_6_6  PAY_6_7  PAY_6_8  PAY_AMT1  PAY_AMT2  PAY_AMT3  PAY_AMT4  \\\n",
              "22659        0        0        0   10011.0    6200.0    5874.0   10000.0   \n",
              "6618         0        0        0   40970.0    1210.0   10015.0   10009.0   \n",
              "26605        1        0        0       0.0       0.0       0.0       0.0   \n",
              "2504         0        0        0   30404.0       0.0     880.0     150.0   \n",
              "1111         0        0        0     155.0    1922.0    1473.0    1865.0   \n",
              "\n",
              "       PAY_AMT5  PAY_AMT6  SEX_1  SEX_2  default.payment.next.month  \n",
              "22659    6054.0    7108.0      0      1                           0  \n",
              "6618    11783.0  110306.0      1      0                           0  \n",
              "26605       0.0       0.0      1      0                           1  \n",
              "2504      430.0     747.0      1      0                           0  \n",
              "1111      835.0    1833.0      0      1                           0  "
            ],
            "text/html": [
              "\n",
              "  <div id=\"df-54ba88a1-bfff-4bc3-b300-f5b431c45f12\">\n",
              "    <div class=\"colab-df-container\">\n",
              "      <div>\n",
              "<style scoped>\n",
              "    .dataframe tbody tr th:only-of-type {\n",
              "        vertical-align: middle;\n",
              "    }\n",
              "\n",
              "    .dataframe tbody tr th {\n",
              "        vertical-align: top;\n",
              "    }\n",
              "\n",
              "    .dataframe thead th {\n",
              "        text-align: right;\n",
              "    }\n",
              "</style>\n",
              "<table border=\"1\" class=\"dataframe\">\n",
              "  <thead>\n",
              "    <tr style=\"text-align: right;\">\n",
              "      <th></th>\n",
              "      <th>AGE</th>\n",
              "      <th>BILL_AMT1</th>\n",
              "      <th>BILL_AMT2</th>\n",
              "      <th>BILL_AMT3</th>\n",
              "      <th>BILL_AMT4</th>\n",
              "      <th>BILL_AMT5</th>\n",
              "      <th>BILL_AMT6</th>\n",
              "      <th>EDUCATION_0</th>\n",
              "      <th>EDUCATION_1</th>\n",
              "      <th>EDUCATION_2</th>\n",
              "      <th>EDUCATION_3</th>\n",
              "      <th>EDUCATION_4</th>\n",
              "      <th>EDUCATION_5</th>\n",
              "      <th>EDUCATION_6</th>\n",
              "      <th>ID</th>\n",
              "      <th>LIMIT_BAL</th>\n",
              "      <th>MARRIAGE_0</th>\n",
              "      <th>MARRIAGE_1</th>\n",
              "      <th>MARRIAGE_2</th>\n",
              "      <th>MARRIAGE_3</th>\n",
              "      <th>PAY_0_-1</th>\n",
              "      <th>PAY_0_-2</th>\n",
              "      <th>PAY_0_0</th>\n",
              "      <th>PAY_0_1</th>\n",
              "      <th>PAY_0_2</th>\n",
              "      <th>PAY_0_3</th>\n",
              "      <th>PAY_0_4</th>\n",
              "      <th>PAY_0_5</th>\n",
              "      <th>PAY_0_6</th>\n",
              "      <th>PAY_0_7</th>\n",
              "      <th>PAY_0_8</th>\n",
              "      <th>PAY_2_-1</th>\n",
              "      <th>PAY_2_-2</th>\n",
              "      <th>PAY_2_0</th>\n",
              "      <th>PAY_2_1</th>\n",
              "      <th>PAY_2_2</th>\n",
              "      <th>PAY_2_3</th>\n",
              "      <th>PAY_2_4</th>\n",
              "      <th>PAY_2_5</th>\n",
              "      <th>PAY_2_6</th>\n",
              "      <th>PAY_2_7</th>\n",
              "      <th>PAY_2_8</th>\n",
              "      <th>PAY_3_-1</th>\n",
              "      <th>PAY_3_-2</th>\n",
              "      <th>PAY_3_0</th>\n",
              "      <th>PAY_3_1</th>\n",
              "      <th>PAY_3_2</th>\n",
              "      <th>PAY_3_3</th>\n",
              "      <th>PAY_3_4</th>\n",
              "      <th>PAY_3_5</th>\n",
              "      <th>PAY_3_6</th>\n",
              "      <th>PAY_3_7</th>\n",
              "      <th>PAY_3_8</th>\n",
              "      <th>PAY_4_-1</th>\n",
              "      <th>PAY_4_-2</th>\n",
              "      <th>PAY_4_0</th>\n",
              "      <th>PAY_4_1</th>\n",
              "      <th>PAY_4_2</th>\n",
              "      <th>PAY_4_3</th>\n",
              "      <th>PAY_4_4</th>\n",
              "      <th>PAY_4_5</th>\n",
              "      <th>PAY_4_6</th>\n",
              "      <th>PAY_4_7</th>\n",
              "      <th>PAY_4_8</th>\n",
              "      <th>PAY_5_-1</th>\n",
              "      <th>PAY_5_-2</th>\n",
              "      <th>PAY_5_0</th>\n",
              "      <th>PAY_5_2</th>\n",
              "      <th>PAY_5_3</th>\n",
              "      <th>PAY_5_4</th>\n",
              "      <th>PAY_5_5</th>\n",
              "      <th>PAY_5_6</th>\n",
              "      <th>PAY_5_7</th>\n",
              "      <th>PAY_5_8</th>\n",
              "      <th>PAY_6_-1</th>\n",
              "      <th>PAY_6_-2</th>\n",
              "      <th>PAY_6_0</th>\n",
              "      <th>PAY_6_2</th>\n",
              "      <th>PAY_6_3</th>\n",
              "      <th>PAY_6_4</th>\n",
              "      <th>PAY_6_5</th>\n",
              "      <th>PAY_6_6</th>\n",
              "      <th>PAY_6_7</th>\n",
              "      <th>PAY_6_8</th>\n",
              "      <th>PAY_AMT1</th>\n",
              "      <th>PAY_AMT2</th>\n",
              "      <th>PAY_AMT3</th>\n",
              "      <th>PAY_AMT4</th>\n",
              "      <th>PAY_AMT5</th>\n",
              "      <th>PAY_AMT6</th>\n",
              "      <th>SEX_1</th>\n",
              "      <th>SEX_2</th>\n",
              "      <th>default.payment.next.month</th>\n",
              "    </tr>\n",
              "  </thead>\n",
              "  <tbody>\n",
              "    <tr>\n",
              "      <th>22659</th>\n",
              "      <td>48</td>\n",
              "      <td>175095.0</td>\n",
              "      <td>175522.0</td>\n",
              "      <td>173918.0</td>\n",
              "      <td>174074.0</td>\n",
              "      <td>178671.0</td>\n",
              "      <td>178869.0</td>\n",
              "      <td>0</td>\n",
              "      <td>0</td>\n",
              "      <td>0</td>\n",
              "      <td>1</td>\n",
              "      <td>0</td>\n",
              "      <td>0</td>\n",
              "      <td>0</td>\n",
              "      <td>22660</td>\n",
              "      <td>150000.0</td>\n",
              "      <td>0</td>\n",
              "      <td>0</td>\n",
              "      <td>1</td>\n",
              "      <td>0</td>\n",
              "      <td>0</td>\n",
              "      <td>0</td>\n",
              "      <td>1</td>\n",
              "      <td>0</td>\n",
              "      <td>0</td>\n",
              "      <td>0</td>\n",
              "      <td>0</td>\n",
              "      <td>0</td>\n",
              "      <td>0</td>\n",
              "      <td>0</td>\n",
              "      <td>0</td>\n",
              "      <td>0</td>\n",
              "      <td>0</td>\n",
              "      <td>1</td>\n",
              "      <td>0</td>\n",
              "      <td>0</td>\n",
              "      <td>0</td>\n",
              "      <td>0</td>\n",
              "      <td>0</td>\n",
              "      <td>0</td>\n",
              "      <td>0</td>\n",
              "      <td>0</td>\n",
              "      <td>0</td>\n",
              "      <td>0</td>\n",
              "      <td>1</td>\n",
              "      <td>0</td>\n",
              "      <td>0</td>\n",
              "      <td>0</td>\n",
              "      <td>0</td>\n",
              "      <td>0</td>\n",
              "      <td>0</td>\n",
              "      <td>0</td>\n",
              "      <td>0</td>\n",
              "      <td>0</td>\n",
              "      <td>0</td>\n",
              "      <td>1</td>\n",
              "      <td>0</td>\n",
              "      <td>0</td>\n",
              "      <td>0</td>\n",
              "      <td>0</td>\n",
              "      <td>0</td>\n",
              "      <td>0</td>\n",
              "      <td>0</td>\n",
              "      <td>0</td>\n",
              "      <td>0</td>\n",
              "      <td>0</td>\n",
              "      <td>1</td>\n",
              "      <td>0</td>\n",
              "      <td>0</td>\n",
              "      <td>0</td>\n",
              "      <td>0</td>\n",
              "      <td>0</td>\n",
              "      <td>0</td>\n",
              "      <td>0</td>\n",
              "      <td>0</td>\n",
              "      <td>0</td>\n",
              "      <td>1</td>\n",
              "      <td>0</td>\n",
              "      <td>0</td>\n",
              "      <td>0</td>\n",
              "      <td>0</td>\n",
              "      <td>0</td>\n",
              "      <td>0</td>\n",
              "      <td>0</td>\n",
              "      <td>10011.0</td>\n",
              "      <td>6200.0</td>\n",
              "      <td>5874.0</td>\n",
              "      <td>10000.0</td>\n",
              "      <td>6054.0</td>\n",
              "      <td>7108.0</td>\n",
              "      <td>0</td>\n",
              "      <td>1</td>\n",
              "      <td>0</td>\n",
              "    </tr>\n",
              "    <tr>\n",
              "      <th>6618</th>\n",
              "      <td>37</td>\n",
              "      <td>8788.0</td>\n",
              "      <td>40927.0</td>\n",
              "      <td>28306.0</td>\n",
              "      <td>31578.0</td>\n",
              "      <td>21195.0</td>\n",
              "      <td>11776.0</td>\n",
              "      <td>0</td>\n",
              "      <td>0</td>\n",
              "      <td>1</td>\n",
              "      <td>0</td>\n",
              "      <td>0</td>\n",
              "      <td>0</td>\n",
              "      <td>0</td>\n",
              "      <td>6619</td>\n",
              "      <td>180000.0</td>\n",
              "      <td>0</td>\n",
              "      <td>0</td>\n",
              "      <td>1</td>\n",
              "      <td>0</td>\n",
              "      <td>1</td>\n",
              "      <td>0</td>\n",
              "      <td>0</td>\n",
              "      <td>0</td>\n",
              "      <td>0</td>\n",
              "      <td>0</td>\n",
              "      <td>0</td>\n",
              "      <td>0</td>\n",
              "      <td>0</td>\n",
              "      <td>0</td>\n",
              "      <td>0</td>\n",
              "      <td>1</td>\n",
              "      <td>0</td>\n",
              "      <td>0</td>\n",
              "      <td>0</td>\n",
              "      <td>0</td>\n",
              "      <td>0</td>\n",
              "      <td>0</td>\n",
              "      <td>0</td>\n",
              "      <td>0</td>\n",
              "      <td>0</td>\n",
              "      <td>0</td>\n",
              "      <td>0</td>\n",
              "      <td>0</td>\n",
              "      <td>1</td>\n",
              "      <td>0</td>\n",
              "      <td>0</td>\n",
              "      <td>0</td>\n",
              "      <td>0</td>\n",
              "      <td>0</td>\n",
              "      <td>0</td>\n",
              "      <td>0</td>\n",
              "      <td>0</td>\n",
              "      <td>0</td>\n",
              "      <td>0</td>\n",
              "      <td>1</td>\n",
              "      <td>0</td>\n",
              "      <td>0</td>\n",
              "      <td>0</td>\n",
              "      <td>0</td>\n",
              "      <td>0</td>\n",
              "      <td>0</td>\n",
              "      <td>0</td>\n",
              "      <td>0</td>\n",
              "      <td>0</td>\n",
              "      <td>0</td>\n",
              "      <td>1</td>\n",
              "      <td>0</td>\n",
              "      <td>0</td>\n",
              "      <td>0</td>\n",
              "      <td>0</td>\n",
              "      <td>0</td>\n",
              "      <td>0</td>\n",
              "      <td>0</td>\n",
              "      <td>1</td>\n",
              "      <td>0</td>\n",
              "      <td>0</td>\n",
              "      <td>0</td>\n",
              "      <td>0</td>\n",
              "      <td>0</td>\n",
              "      <td>0</td>\n",
              "      <td>0</td>\n",
              "      <td>0</td>\n",
              "      <td>0</td>\n",
              "      <td>40970.0</td>\n",
              "      <td>1210.0</td>\n",
              "      <td>10015.0</td>\n",
              "      <td>10009.0</td>\n",
              "      <td>11783.0</td>\n",
              "      <td>110306.0</td>\n",
              "      <td>1</td>\n",
              "      <td>0</td>\n",
              "      <td>0</td>\n",
              "    </tr>\n",
              "    <tr>\n",
              "      <th>26605</th>\n",
              "      <td>23</td>\n",
              "      <td>2400.0</td>\n",
              "      <td>2400.0</td>\n",
              "      <td>2400.0</td>\n",
              "      <td>2400.0</td>\n",
              "      <td>2400.0</td>\n",
              "      <td>1800.0</td>\n",
              "      <td>0</td>\n",
              "      <td>0</td>\n",
              "      <td>1</td>\n",
              "      <td>0</td>\n",
              "      <td>0</td>\n",
              "      <td>0</td>\n",
              "      <td>0</td>\n",
              "      <td>26606</td>\n",
              "      <td>20000.0</td>\n",
              "      <td>0</td>\n",
              "      <td>0</td>\n",
              "      <td>1</td>\n",
              "      <td>0</td>\n",
              "      <td>0</td>\n",
              "      <td>0</td>\n",
              "      <td>0</td>\n",
              "      <td>0</td>\n",
              "      <td>0</td>\n",
              "      <td>1</td>\n",
              "      <td>0</td>\n",
              "      <td>0</td>\n",
              "      <td>0</td>\n",
              "      <td>0</td>\n",
              "      <td>0</td>\n",
              "      <td>0</td>\n",
              "      <td>0</td>\n",
              "      <td>0</td>\n",
              "      <td>0</td>\n",
              "      <td>1</td>\n",
              "      <td>0</td>\n",
              "      <td>0</td>\n",
              "      <td>0</td>\n",
              "      <td>0</td>\n",
              "      <td>0</td>\n",
              "      <td>0</td>\n",
              "      <td>0</td>\n",
              "      <td>0</td>\n",
              "      <td>0</td>\n",
              "      <td>0</td>\n",
              "      <td>1</td>\n",
              "      <td>0</td>\n",
              "      <td>0</td>\n",
              "      <td>0</td>\n",
              "      <td>0</td>\n",
              "      <td>0</td>\n",
              "      <td>0</td>\n",
              "      <td>0</td>\n",
              "      <td>0</td>\n",
              "      <td>0</td>\n",
              "      <td>0</td>\n",
              "      <td>0</td>\n",
              "      <td>0</td>\n",
              "      <td>0</td>\n",
              "      <td>0</td>\n",
              "      <td>0</td>\n",
              "      <td>1</td>\n",
              "      <td>0</td>\n",
              "      <td>0</td>\n",
              "      <td>0</td>\n",
              "      <td>0</td>\n",
              "      <td>0</td>\n",
              "      <td>0</td>\n",
              "      <td>0</td>\n",
              "      <td>0</td>\n",
              "      <td>0</td>\n",
              "      <td>1</td>\n",
              "      <td>0</td>\n",
              "      <td>0</td>\n",
              "      <td>0</td>\n",
              "      <td>0</td>\n",
              "      <td>0</td>\n",
              "      <td>0</td>\n",
              "      <td>0</td>\n",
              "      <td>0</td>\n",
              "      <td>1</td>\n",
              "      <td>0</td>\n",
              "      <td>0</td>\n",
              "      <td>0.0</td>\n",
              "      <td>0.0</td>\n",
              "      <td>0.0</td>\n",
              "      <td>0.0</td>\n",
              "      <td>0.0</td>\n",
              "      <td>0.0</td>\n",
              "      <td>1</td>\n",
              "      <td>0</td>\n",
              "      <td>1</td>\n",
              "    </tr>\n",
              "    <tr>\n",
              "      <th>2504</th>\n",
              "      <td>30</td>\n",
              "      <td>440.0</td>\n",
              "      <td>30404.0</td>\n",
              "      <td>0.0</td>\n",
              "      <td>880.0</td>\n",
              "      <td>150.0</td>\n",
              "      <td>430.0</td>\n",
              "      <td>0</td>\n",
              "      <td>0</td>\n",
              "      <td>1</td>\n",
              "      <td>0</td>\n",
              "      <td>0</td>\n",
              "      <td>0</td>\n",
              "      <td>0</td>\n",
              "      <td>2505</td>\n",
              "      <td>180000.0</td>\n",
              "      <td>0</td>\n",
              "      <td>0</td>\n",
              "      <td>1</td>\n",
              "      <td>0</td>\n",
              "      <td>1</td>\n",
              "      <td>0</td>\n",
              "      <td>0</td>\n",
              "      <td>0</td>\n",
              "      <td>0</td>\n",
              "      <td>0</td>\n",
              "      <td>0</td>\n",
              "      <td>0</td>\n",
              "      <td>0</td>\n",
              "      <td>0</td>\n",
              "      <td>0</td>\n",
              "      <td>1</td>\n",
              "      <td>0</td>\n",
              "      <td>0</td>\n",
              "      <td>0</td>\n",
              "      <td>0</td>\n",
              "      <td>0</td>\n",
              "      <td>0</td>\n",
              "      <td>0</td>\n",
              "      <td>0</td>\n",
              "      <td>0</td>\n",
              "      <td>0</td>\n",
              "      <td>1</td>\n",
              "      <td>0</td>\n",
              "      <td>0</td>\n",
              "      <td>0</td>\n",
              "      <td>0</td>\n",
              "      <td>0</td>\n",
              "      <td>0</td>\n",
              "      <td>0</td>\n",
              "      <td>0</td>\n",
              "      <td>0</td>\n",
              "      <td>0</td>\n",
              "      <td>1</td>\n",
              "      <td>0</td>\n",
              "      <td>0</td>\n",
              "      <td>0</td>\n",
              "      <td>0</td>\n",
              "      <td>0</td>\n",
              "      <td>0</td>\n",
              "      <td>0</td>\n",
              "      <td>0</td>\n",
              "      <td>0</td>\n",
              "      <td>0</td>\n",
              "      <td>1</td>\n",
              "      <td>0</td>\n",
              "      <td>0</td>\n",
              "      <td>0</td>\n",
              "      <td>0</td>\n",
              "      <td>0</td>\n",
              "      <td>0</td>\n",
              "      <td>0</td>\n",
              "      <td>0</td>\n",
              "      <td>0</td>\n",
              "      <td>1</td>\n",
              "      <td>0</td>\n",
              "      <td>0</td>\n",
              "      <td>0</td>\n",
              "      <td>0</td>\n",
              "      <td>0</td>\n",
              "      <td>0</td>\n",
              "      <td>0</td>\n",
              "      <td>0</td>\n",
              "      <td>0</td>\n",
              "      <td>30404.0</td>\n",
              "      <td>0.0</td>\n",
              "      <td>880.0</td>\n",
              "      <td>150.0</td>\n",
              "      <td>430.0</td>\n",
              "      <td>747.0</td>\n",
              "      <td>1</td>\n",
              "      <td>0</td>\n",
              "      <td>0</td>\n",
              "    </tr>\n",
              "    <tr>\n",
              "      <th>1111</th>\n",
              "      <td>44</td>\n",
              "      <td>3424.0</td>\n",
              "      <td>155.0</td>\n",
              "      <td>1922.0</td>\n",
              "      <td>1473.0</td>\n",
              "      <td>1865.0</td>\n",
              "      <td>835.0</td>\n",
              "      <td>0</td>\n",
              "      <td>0</td>\n",
              "      <td>0</td>\n",
              "      <td>1</td>\n",
              "      <td>0</td>\n",
              "      <td>0</td>\n",
              "      <td>0</td>\n",
              "      <td>1112</td>\n",
              "      <td>50000.0</td>\n",
              "      <td>0</td>\n",
              "      <td>1</td>\n",
              "      <td>0</td>\n",
              "      <td>0</td>\n",
              "      <td>1</td>\n",
              "      <td>0</td>\n",
              "      <td>0</td>\n",
              "      <td>0</td>\n",
              "      <td>0</td>\n",
              "      <td>0</td>\n",
              "      <td>0</td>\n",
              "      <td>0</td>\n",
              "      <td>0</td>\n",
              "      <td>0</td>\n",
              "      <td>0</td>\n",
              "      <td>1</td>\n",
              "      <td>0</td>\n",
              "      <td>0</td>\n",
              "      <td>0</td>\n",
              "      <td>0</td>\n",
              "      <td>0</td>\n",
              "      <td>0</td>\n",
              "      <td>0</td>\n",
              "      <td>0</td>\n",
              "      <td>0</td>\n",
              "      <td>0</td>\n",
              "      <td>1</td>\n",
              "      <td>0</td>\n",
              "      <td>0</td>\n",
              "      <td>0</td>\n",
              "      <td>0</td>\n",
              "      <td>0</td>\n",
              "      <td>0</td>\n",
              "      <td>0</td>\n",
              "      <td>0</td>\n",
              "      <td>0</td>\n",
              "      <td>0</td>\n",
              "      <td>1</td>\n",
              "      <td>0</td>\n",
              "      <td>0</td>\n",
              "      <td>0</td>\n",
              "      <td>0</td>\n",
              "      <td>0</td>\n",
              "      <td>0</td>\n",
              "      <td>0</td>\n",
              "      <td>0</td>\n",
              "      <td>0</td>\n",
              "      <td>0</td>\n",
              "      <td>1</td>\n",
              "      <td>0</td>\n",
              "      <td>0</td>\n",
              "      <td>0</td>\n",
              "      <td>0</td>\n",
              "      <td>0</td>\n",
              "      <td>0</td>\n",
              "      <td>0</td>\n",
              "      <td>0</td>\n",
              "      <td>0</td>\n",
              "      <td>1</td>\n",
              "      <td>0</td>\n",
              "      <td>0</td>\n",
              "      <td>0</td>\n",
              "      <td>0</td>\n",
              "      <td>0</td>\n",
              "      <td>0</td>\n",
              "      <td>0</td>\n",
              "      <td>0</td>\n",
              "      <td>0</td>\n",
              "      <td>155.0</td>\n",
              "      <td>1922.0</td>\n",
              "      <td>1473.0</td>\n",
              "      <td>1865.0</td>\n",
              "      <td>835.0</td>\n",
              "      <td>1833.0</td>\n",
              "      <td>0</td>\n",
              "      <td>1</td>\n",
              "      <td>0</td>\n",
              "    </tr>\n",
              "  </tbody>\n",
              "</table>\n",
              "</div>\n",
              "      <button class=\"colab-df-convert\" onclick=\"convertToInteractive('df-54ba88a1-bfff-4bc3-b300-f5b431c45f12')\"\n",
              "              title=\"Convert this dataframe to an interactive table.\"\n",
              "              style=\"display:none;\">\n",
              "        \n",
              "  <svg xmlns=\"http://www.w3.org/2000/svg\" height=\"24px\"viewBox=\"0 0 24 24\"\n",
              "       width=\"24px\">\n",
              "    <path d=\"M0 0h24v24H0V0z\" fill=\"none\"/>\n",
              "    <path d=\"M18.56 5.44l.94 2.06.94-2.06 2.06-.94-2.06-.94-.94-2.06-.94 2.06-2.06.94zm-11 1L8.5 8.5l.94-2.06 2.06-.94-2.06-.94L8.5 2.5l-.94 2.06-2.06.94zm10 10l.94 2.06.94-2.06 2.06-.94-2.06-.94-.94-2.06-.94 2.06-2.06.94z\"/><path d=\"M17.41 7.96l-1.37-1.37c-.4-.4-.92-.59-1.43-.59-.52 0-1.04.2-1.43.59L10.3 9.45l-7.72 7.72c-.78.78-.78 2.05 0 2.83L4 21.41c.39.39.9.59 1.41.59.51 0 1.02-.2 1.41-.59l7.78-7.78 2.81-2.81c.8-.78.8-2.07 0-2.86zM5.41 20L4 18.59l7.72-7.72 1.47 1.35L5.41 20z\"/>\n",
              "  </svg>\n",
              "      </button>\n",
              "      \n",
              "  <style>\n",
              "    .colab-df-container {\n",
              "      display:flex;\n",
              "      flex-wrap:wrap;\n",
              "      gap: 12px;\n",
              "    }\n",
              "\n",
              "    .colab-df-convert {\n",
              "      background-color: #E8F0FE;\n",
              "      border: none;\n",
              "      border-radius: 50%;\n",
              "      cursor: pointer;\n",
              "      display: none;\n",
              "      fill: #1967D2;\n",
              "      height: 32px;\n",
              "      padding: 0 0 0 0;\n",
              "      width: 32px;\n",
              "    }\n",
              "\n",
              "    .colab-df-convert:hover {\n",
              "      background-color: #E2EBFA;\n",
              "      box-shadow: 0px 1px 2px rgba(60, 64, 67, 0.3), 0px 1px 3px 1px rgba(60, 64, 67, 0.15);\n",
              "      fill: #174EA6;\n",
              "    }\n",
              "\n",
              "    [theme=dark] .colab-df-convert {\n",
              "      background-color: #3B4455;\n",
              "      fill: #D2E3FC;\n",
              "    }\n",
              "\n",
              "    [theme=dark] .colab-df-convert:hover {\n",
              "      background-color: #434B5C;\n",
              "      box-shadow: 0px 1px 3px 1px rgba(0, 0, 0, 0.15);\n",
              "      filter: drop-shadow(0px 1px 2px rgba(0, 0, 0, 0.3));\n",
              "      fill: #FFFFFF;\n",
              "    }\n",
              "  </style>\n",
              "\n",
              "      <script>\n",
              "        const buttonEl =\n",
              "          document.querySelector('#df-54ba88a1-bfff-4bc3-b300-f5b431c45f12 button.colab-df-convert');\n",
              "        buttonEl.style.display =\n",
              "          google.colab.kernel.accessAllowed ? 'block' : 'none';\n",
              "\n",
              "        async function convertToInteractive(key) {\n",
              "          const element = document.querySelector('#df-54ba88a1-bfff-4bc3-b300-f5b431c45f12');\n",
              "          const dataTable =\n",
              "            await google.colab.kernel.invokeFunction('convertToInteractive',\n",
              "                                                     [key], {});\n",
              "          if (!dataTable) return;\n",
              "\n",
              "          const docLinkHtml = 'Like what you see? Visit the ' +\n",
              "            '<a target=\"_blank\" href=https://colab.research.google.com/notebooks/data_table.ipynb>data table notebook</a>'\n",
              "            + ' to learn more about interactive tables.';\n",
              "          element.innerHTML = '';\n",
              "          dataTable['output_type'] = 'display_data';\n",
              "          await google.colab.output.renderOutput(dataTable, element);\n",
              "          const docLink = document.createElement('div');\n",
              "          docLink.innerHTML = docLinkHtml;\n",
              "          element.appendChild(docLink);\n",
              "        }\n",
              "      </script>\n",
              "    </div>\n",
              "  </div>\n",
              "  "
            ]
          },
          "metadata": {},
          "execution_count": 62
        }
      ]
    },
    {
      "cell_type": "code",
      "source": [
        "val_fa_df.head(5)\n"
      ],
      "metadata": {
        "colab": {
          "base_uri": "https://localhost:8080/",
          "height": 270
        },
        "id": "kOonFhIE4vYO",
        "outputId": "f14d376c-9481-4f11-f2c0-efb4b25b60eb"
      },
      "execution_count": null,
      "outputs": [
        {
          "output_type": "execute_result",
          "data": {
            "text/plain": [
              "       AGE  BILL_AMT1  BILL_AMT2  BILL_AMT3  BILL_AMT4  BILL_AMT5  BILL_AMT6  \\\n",
              "8343    30    37522.0    38614.0    39671.0    40213.0    41064.0    43382.0   \n",
              "2228    29    53274.0    54093.0    53111.0    50568.0    47791.0    45421.0   \n",
              "6293    55     2326.0     4917.0     4906.0     4707.0     2254.0     5375.0   \n",
              "16805   43     4166.0     4166.0     4216.0     4166.0     4166.0     4166.0   \n",
              "3519    34   383973.0   380082.0   389694.0   342198.0   344808.0   347188.0   \n",
              "\n",
              "       EDUCATION_0  EDUCATION_1  EDUCATION_2  EDUCATION_3  EDUCATION_4  \\\n",
              "8343             0            0            1            0            0   \n",
              "2228             0            0            1            0            0   \n",
              "6293             0            1            0            0            0   \n",
              "16805            0            0            0            1            0   \n",
              "3519             0            0            1            0            0   \n",
              "\n",
              "       EDUCATION_5  EDUCATION_6     ID  LIMIT_BAL  MARRIAGE_0  MARRIAGE_1  \\\n",
              "8343             0            0   8344    50000.0           0           0   \n",
              "2228             0            0   2229    60000.0           0           0   \n",
              "6293             0            0   6294   280000.0           0           1   \n",
              "16805            0            0  16806    50000.0           0           0   \n",
              "3519             0            0   3520   550000.0           0           1   \n",
              "\n",
              "       MARRIAGE_2  MARRIAGE_3  PAY_0_-1  PAY_0_-2  PAY_0_0  PAY_0_1  PAY_0_2  \\\n",
              "8343            1           0         0         0        1        0        0   \n",
              "2228            1           0         0         0        1        0        0   \n",
              "6293            0           0         1         0        0        0        0   \n",
              "16805           1           0         1         0        0        0        0   \n",
              "3519            0           0         0         0        1        0        0   \n",
              "\n",
              "       PAY_0_3  PAY_0_4  PAY_0_5  PAY_0_6  PAY_0_7  PAY_0_8  PAY_2_-1  \\\n",
              "8343         0        0        0        0        0        0         0   \n",
              "2228         0        0        0        0        0        0         0   \n",
              "6293         0        0        0        0        0        0         1   \n",
              "16805        0        0        0        0        0        0         1   \n",
              "3519         0        0        0        0        0        0         0   \n",
              "\n",
              "       PAY_2_-2  PAY_2_0  PAY_2_1  PAY_2_2  PAY_2_3  PAY_2_4  PAY_2_5  \\\n",
              "8343          0        1        0        0        0        0        0   \n",
              "2228          0        1        0        0        0        0        0   \n",
              "6293          0        0        0        0        0        0        0   \n",
              "16805         0        0        0        0        0        0        0   \n",
              "3519          0        1        0        0        0        0        0   \n",
              "\n",
              "       PAY_2_6  PAY_2_7  PAY_2_8  PAY_3_-1  PAY_3_-2  PAY_3_0  PAY_3_1  \\\n",
              "8343         0        0        0         0         0        1        0   \n",
              "2228         0        0        0         0         0        1        0   \n",
              "6293         0        0        0         0         0        1        0   \n",
              "16805        0        0        0         1         0        0        0   \n",
              "3519         0        0        0         0         0        1        0   \n",
              "\n",
              "       PAY_3_2  PAY_3_3  PAY_3_4  PAY_3_5  PAY_3_6  PAY_3_7  PAY_3_8  \\\n",
              "8343         0        0        0        0        0        0        0   \n",
              "2228         0        0        0        0        0        0        0   \n",
              "6293         0        0        0        0        0        0        0   \n",
              "16805        0        0        0        0        0        0        0   \n",
              "3519         0        0        0        0        0        0        0   \n",
              "\n",
              "       PAY_4_-1  PAY_4_-2  PAY_4_0  PAY_4_1  PAY_4_2  PAY_4_3  PAY_4_4  \\\n",
              "8343          0         0        1        0        0        0        0   \n",
              "2228          0         0        1        0        0        0        0   \n",
              "6293          0         0        1        0        0        0        0   \n",
              "16805         0         0        1        0        0        0        0   \n",
              "3519          0         0        1        0        0        0        0   \n",
              "\n",
              "       PAY_4_5  PAY_4_6  PAY_4_7  PAY_4_8  PAY_5_-1  PAY_5_-2  PAY_5_0  \\\n",
              "8343         0        0        0        0         0         0        1   \n",
              "2228         0        0        0        0         0         0        1   \n",
              "6293         0        0        0        0         0         0        0   \n",
              "16805        0        0        0        0         1         0        0   \n",
              "3519         0        0        0        0         0         0        1   \n",
              "\n",
              "       PAY_5_2  PAY_5_3  PAY_5_4  PAY_5_5  PAY_5_6  PAY_5_7  PAY_5_8  \\\n",
              "8343         0        0        0        0        0        0        0   \n",
              "2228         0        0        0        0        0        0        0   \n",
              "6293         1        0        0        0        0        0        0   \n",
              "16805        0        0        0        0        0        0        0   \n",
              "3519         0        0        0        0        0        0        0   \n",
              "\n",
              "       PAY_6_-1  PAY_6_-2  PAY_6_0  PAY_6_2  PAY_6_3  PAY_6_4  PAY_6_5  \\\n",
              "8343          0         0        1        0        0        0        0   \n",
              "2228          0         0        1        0        0        0        0   \n",
              "6293          1         0        0        0        0        0        0   \n",
              "16805         1         0        0        0        0        0        0   \n",
              "3519          0         0        1        0        0        0        0   \n",
              "\n",
              "       PAY_6_6  PAY_6_7  PAY_6_8  PAY_AMT1  PAY_AMT2  PAY_AMT3  PAY_AMT4  \\\n",
              "8343         0        0        0    2000.0    2000.0    1500.0    1500.0   \n",
              "2228         0        0        0    2591.0    2109.0    1705.0    2010.0   \n",
              "6293         0        0        0    4917.0    2453.0    2254.0       0.0   \n",
              "16805        0        0        0    4166.0    4216.0    4116.0    4166.0   \n",
              "3519         0        0        0   15000.0   20000.0   20000.0   12000.0   \n",
              "\n",
              "       PAY_AMT5  PAY_AMT6  SEX_1  SEX_2  default.payment.next.month  \n",
              "8343     3000.0    2000.0      0      1                           0  \n",
              "2228     2000.0    1523.0      0      1                           0  \n",
              "6293     5375.0    1165.0      1      0                           0  \n",
              "16805    4166.0    4166.0      1      0                           0  \n",
              "3519    12000.0   13000.0      0      1                           0  "
            ],
            "text/html": [
              "\n",
              "  <div id=\"df-6746708c-ec28-4802-bdb6-02c2d32d2c22\">\n",
              "    <div class=\"colab-df-container\">\n",
              "      <div>\n",
              "<style scoped>\n",
              "    .dataframe tbody tr th:only-of-type {\n",
              "        vertical-align: middle;\n",
              "    }\n",
              "\n",
              "    .dataframe tbody tr th {\n",
              "        vertical-align: top;\n",
              "    }\n",
              "\n",
              "    .dataframe thead th {\n",
              "        text-align: right;\n",
              "    }\n",
              "</style>\n",
              "<table border=\"1\" class=\"dataframe\">\n",
              "  <thead>\n",
              "    <tr style=\"text-align: right;\">\n",
              "      <th></th>\n",
              "      <th>AGE</th>\n",
              "      <th>BILL_AMT1</th>\n",
              "      <th>BILL_AMT2</th>\n",
              "      <th>BILL_AMT3</th>\n",
              "      <th>BILL_AMT4</th>\n",
              "      <th>BILL_AMT5</th>\n",
              "      <th>BILL_AMT6</th>\n",
              "      <th>EDUCATION_0</th>\n",
              "      <th>EDUCATION_1</th>\n",
              "      <th>EDUCATION_2</th>\n",
              "      <th>EDUCATION_3</th>\n",
              "      <th>EDUCATION_4</th>\n",
              "      <th>EDUCATION_5</th>\n",
              "      <th>EDUCATION_6</th>\n",
              "      <th>ID</th>\n",
              "      <th>LIMIT_BAL</th>\n",
              "      <th>MARRIAGE_0</th>\n",
              "      <th>MARRIAGE_1</th>\n",
              "      <th>MARRIAGE_2</th>\n",
              "      <th>MARRIAGE_3</th>\n",
              "      <th>PAY_0_-1</th>\n",
              "      <th>PAY_0_-2</th>\n",
              "      <th>PAY_0_0</th>\n",
              "      <th>PAY_0_1</th>\n",
              "      <th>PAY_0_2</th>\n",
              "      <th>PAY_0_3</th>\n",
              "      <th>PAY_0_4</th>\n",
              "      <th>PAY_0_5</th>\n",
              "      <th>PAY_0_6</th>\n",
              "      <th>PAY_0_7</th>\n",
              "      <th>PAY_0_8</th>\n",
              "      <th>PAY_2_-1</th>\n",
              "      <th>PAY_2_-2</th>\n",
              "      <th>PAY_2_0</th>\n",
              "      <th>PAY_2_1</th>\n",
              "      <th>PAY_2_2</th>\n",
              "      <th>PAY_2_3</th>\n",
              "      <th>PAY_2_4</th>\n",
              "      <th>PAY_2_5</th>\n",
              "      <th>PAY_2_6</th>\n",
              "      <th>PAY_2_7</th>\n",
              "      <th>PAY_2_8</th>\n",
              "      <th>PAY_3_-1</th>\n",
              "      <th>PAY_3_-2</th>\n",
              "      <th>PAY_3_0</th>\n",
              "      <th>PAY_3_1</th>\n",
              "      <th>PAY_3_2</th>\n",
              "      <th>PAY_3_3</th>\n",
              "      <th>PAY_3_4</th>\n",
              "      <th>PAY_3_5</th>\n",
              "      <th>PAY_3_6</th>\n",
              "      <th>PAY_3_7</th>\n",
              "      <th>PAY_3_8</th>\n",
              "      <th>PAY_4_-1</th>\n",
              "      <th>PAY_4_-2</th>\n",
              "      <th>PAY_4_0</th>\n",
              "      <th>PAY_4_1</th>\n",
              "      <th>PAY_4_2</th>\n",
              "      <th>PAY_4_3</th>\n",
              "      <th>PAY_4_4</th>\n",
              "      <th>PAY_4_5</th>\n",
              "      <th>PAY_4_6</th>\n",
              "      <th>PAY_4_7</th>\n",
              "      <th>PAY_4_8</th>\n",
              "      <th>PAY_5_-1</th>\n",
              "      <th>PAY_5_-2</th>\n",
              "      <th>PAY_5_0</th>\n",
              "      <th>PAY_5_2</th>\n",
              "      <th>PAY_5_3</th>\n",
              "      <th>PAY_5_4</th>\n",
              "      <th>PAY_5_5</th>\n",
              "      <th>PAY_5_6</th>\n",
              "      <th>PAY_5_7</th>\n",
              "      <th>PAY_5_8</th>\n",
              "      <th>PAY_6_-1</th>\n",
              "      <th>PAY_6_-2</th>\n",
              "      <th>PAY_6_0</th>\n",
              "      <th>PAY_6_2</th>\n",
              "      <th>PAY_6_3</th>\n",
              "      <th>PAY_6_4</th>\n",
              "      <th>PAY_6_5</th>\n",
              "      <th>PAY_6_6</th>\n",
              "      <th>PAY_6_7</th>\n",
              "      <th>PAY_6_8</th>\n",
              "      <th>PAY_AMT1</th>\n",
              "      <th>PAY_AMT2</th>\n",
              "      <th>PAY_AMT3</th>\n",
              "      <th>PAY_AMT4</th>\n",
              "      <th>PAY_AMT5</th>\n",
              "      <th>PAY_AMT6</th>\n",
              "      <th>SEX_1</th>\n",
              "      <th>SEX_2</th>\n",
              "      <th>default.payment.next.month</th>\n",
              "    </tr>\n",
              "  </thead>\n",
              "  <tbody>\n",
              "    <tr>\n",
              "      <th>8343</th>\n",
              "      <td>30</td>\n",
              "      <td>37522.0</td>\n",
              "      <td>38614.0</td>\n",
              "      <td>39671.0</td>\n",
              "      <td>40213.0</td>\n",
              "      <td>41064.0</td>\n",
              "      <td>43382.0</td>\n",
              "      <td>0</td>\n",
              "      <td>0</td>\n",
              "      <td>1</td>\n",
              "      <td>0</td>\n",
              "      <td>0</td>\n",
              "      <td>0</td>\n",
              "      <td>0</td>\n",
              "      <td>8344</td>\n",
              "      <td>50000.0</td>\n",
              "      <td>0</td>\n",
              "      <td>0</td>\n",
              "      <td>1</td>\n",
              "      <td>0</td>\n",
              "      <td>0</td>\n",
              "      <td>0</td>\n",
              "      <td>1</td>\n",
              "      <td>0</td>\n",
              "      <td>0</td>\n",
              "      <td>0</td>\n",
              "      <td>0</td>\n",
              "      <td>0</td>\n",
              "      <td>0</td>\n",
              "      <td>0</td>\n",
              "      <td>0</td>\n",
              "      <td>0</td>\n",
              "      <td>0</td>\n",
              "      <td>1</td>\n",
              "      <td>0</td>\n",
              "      <td>0</td>\n",
              "      <td>0</td>\n",
              "      <td>0</td>\n",
              "      <td>0</td>\n",
              "      <td>0</td>\n",
              "      <td>0</td>\n",
              "      <td>0</td>\n",
              "      <td>0</td>\n",
              "      <td>0</td>\n",
              "      <td>1</td>\n",
              "      <td>0</td>\n",
              "      <td>0</td>\n",
              "      <td>0</td>\n",
              "      <td>0</td>\n",
              "      <td>0</td>\n",
              "      <td>0</td>\n",
              "      <td>0</td>\n",
              "      <td>0</td>\n",
              "      <td>0</td>\n",
              "      <td>0</td>\n",
              "      <td>1</td>\n",
              "      <td>0</td>\n",
              "      <td>0</td>\n",
              "      <td>0</td>\n",
              "      <td>0</td>\n",
              "      <td>0</td>\n",
              "      <td>0</td>\n",
              "      <td>0</td>\n",
              "      <td>0</td>\n",
              "      <td>0</td>\n",
              "      <td>0</td>\n",
              "      <td>1</td>\n",
              "      <td>0</td>\n",
              "      <td>0</td>\n",
              "      <td>0</td>\n",
              "      <td>0</td>\n",
              "      <td>0</td>\n",
              "      <td>0</td>\n",
              "      <td>0</td>\n",
              "      <td>0</td>\n",
              "      <td>0</td>\n",
              "      <td>1</td>\n",
              "      <td>0</td>\n",
              "      <td>0</td>\n",
              "      <td>0</td>\n",
              "      <td>0</td>\n",
              "      <td>0</td>\n",
              "      <td>0</td>\n",
              "      <td>0</td>\n",
              "      <td>2000.0</td>\n",
              "      <td>2000.0</td>\n",
              "      <td>1500.0</td>\n",
              "      <td>1500.0</td>\n",
              "      <td>3000.0</td>\n",
              "      <td>2000.0</td>\n",
              "      <td>0</td>\n",
              "      <td>1</td>\n",
              "      <td>0</td>\n",
              "    </tr>\n",
              "    <tr>\n",
              "      <th>2228</th>\n",
              "      <td>29</td>\n",
              "      <td>53274.0</td>\n",
              "      <td>54093.0</td>\n",
              "      <td>53111.0</td>\n",
              "      <td>50568.0</td>\n",
              "      <td>47791.0</td>\n",
              "      <td>45421.0</td>\n",
              "      <td>0</td>\n",
              "      <td>0</td>\n",
              "      <td>1</td>\n",
              "      <td>0</td>\n",
              "      <td>0</td>\n",
              "      <td>0</td>\n",
              "      <td>0</td>\n",
              "      <td>2229</td>\n",
              "      <td>60000.0</td>\n",
              "      <td>0</td>\n",
              "      <td>0</td>\n",
              "      <td>1</td>\n",
              "      <td>0</td>\n",
              "      <td>0</td>\n",
              "      <td>0</td>\n",
              "      <td>1</td>\n",
              "      <td>0</td>\n",
              "      <td>0</td>\n",
              "      <td>0</td>\n",
              "      <td>0</td>\n",
              "      <td>0</td>\n",
              "      <td>0</td>\n",
              "      <td>0</td>\n",
              "      <td>0</td>\n",
              "      <td>0</td>\n",
              "      <td>0</td>\n",
              "      <td>1</td>\n",
              "      <td>0</td>\n",
              "      <td>0</td>\n",
              "      <td>0</td>\n",
              "      <td>0</td>\n",
              "      <td>0</td>\n",
              "      <td>0</td>\n",
              "      <td>0</td>\n",
              "      <td>0</td>\n",
              "      <td>0</td>\n",
              "      <td>0</td>\n",
              "      <td>1</td>\n",
              "      <td>0</td>\n",
              "      <td>0</td>\n",
              "      <td>0</td>\n",
              "      <td>0</td>\n",
              "      <td>0</td>\n",
              "      <td>0</td>\n",
              "      <td>0</td>\n",
              "      <td>0</td>\n",
              "      <td>0</td>\n",
              "      <td>0</td>\n",
              "      <td>1</td>\n",
              "      <td>0</td>\n",
              "      <td>0</td>\n",
              "      <td>0</td>\n",
              "      <td>0</td>\n",
              "      <td>0</td>\n",
              "      <td>0</td>\n",
              "      <td>0</td>\n",
              "      <td>0</td>\n",
              "      <td>0</td>\n",
              "      <td>0</td>\n",
              "      <td>1</td>\n",
              "      <td>0</td>\n",
              "      <td>0</td>\n",
              "      <td>0</td>\n",
              "      <td>0</td>\n",
              "      <td>0</td>\n",
              "      <td>0</td>\n",
              "      <td>0</td>\n",
              "      <td>0</td>\n",
              "      <td>0</td>\n",
              "      <td>1</td>\n",
              "      <td>0</td>\n",
              "      <td>0</td>\n",
              "      <td>0</td>\n",
              "      <td>0</td>\n",
              "      <td>0</td>\n",
              "      <td>0</td>\n",
              "      <td>0</td>\n",
              "      <td>2591.0</td>\n",
              "      <td>2109.0</td>\n",
              "      <td>1705.0</td>\n",
              "      <td>2010.0</td>\n",
              "      <td>2000.0</td>\n",
              "      <td>1523.0</td>\n",
              "      <td>0</td>\n",
              "      <td>1</td>\n",
              "      <td>0</td>\n",
              "    </tr>\n",
              "    <tr>\n",
              "      <th>6293</th>\n",
              "      <td>55</td>\n",
              "      <td>2326.0</td>\n",
              "      <td>4917.0</td>\n",
              "      <td>4906.0</td>\n",
              "      <td>4707.0</td>\n",
              "      <td>2254.0</td>\n",
              "      <td>5375.0</td>\n",
              "      <td>0</td>\n",
              "      <td>1</td>\n",
              "      <td>0</td>\n",
              "      <td>0</td>\n",
              "      <td>0</td>\n",
              "      <td>0</td>\n",
              "      <td>0</td>\n",
              "      <td>6294</td>\n",
              "      <td>280000.0</td>\n",
              "      <td>0</td>\n",
              "      <td>1</td>\n",
              "      <td>0</td>\n",
              "      <td>0</td>\n",
              "      <td>1</td>\n",
              "      <td>0</td>\n",
              "      <td>0</td>\n",
              "      <td>0</td>\n",
              "      <td>0</td>\n",
              "      <td>0</td>\n",
              "      <td>0</td>\n",
              "      <td>0</td>\n",
              "      <td>0</td>\n",
              "      <td>0</td>\n",
              "      <td>0</td>\n",
              "      <td>1</td>\n",
              "      <td>0</td>\n",
              "      <td>0</td>\n",
              "      <td>0</td>\n",
              "      <td>0</td>\n",
              "      <td>0</td>\n",
              "      <td>0</td>\n",
              "      <td>0</td>\n",
              "      <td>0</td>\n",
              "      <td>0</td>\n",
              "      <td>0</td>\n",
              "      <td>0</td>\n",
              "      <td>0</td>\n",
              "      <td>1</td>\n",
              "      <td>0</td>\n",
              "      <td>0</td>\n",
              "      <td>0</td>\n",
              "      <td>0</td>\n",
              "      <td>0</td>\n",
              "      <td>0</td>\n",
              "      <td>0</td>\n",
              "      <td>0</td>\n",
              "      <td>0</td>\n",
              "      <td>0</td>\n",
              "      <td>1</td>\n",
              "      <td>0</td>\n",
              "      <td>0</td>\n",
              "      <td>0</td>\n",
              "      <td>0</td>\n",
              "      <td>0</td>\n",
              "      <td>0</td>\n",
              "      <td>0</td>\n",
              "      <td>0</td>\n",
              "      <td>0</td>\n",
              "      <td>0</td>\n",
              "      <td>0</td>\n",
              "      <td>1</td>\n",
              "      <td>0</td>\n",
              "      <td>0</td>\n",
              "      <td>0</td>\n",
              "      <td>0</td>\n",
              "      <td>0</td>\n",
              "      <td>0</td>\n",
              "      <td>1</td>\n",
              "      <td>0</td>\n",
              "      <td>0</td>\n",
              "      <td>0</td>\n",
              "      <td>0</td>\n",
              "      <td>0</td>\n",
              "      <td>0</td>\n",
              "      <td>0</td>\n",
              "      <td>0</td>\n",
              "      <td>0</td>\n",
              "      <td>4917.0</td>\n",
              "      <td>2453.0</td>\n",
              "      <td>2254.0</td>\n",
              "      <td>0.0</td>\n",
              "      <td>5375.0</td>\n",
              "      <td>1165.0</td>\n",
              "      <td>1</td>\n",
              "      <td>0</td>\n",
              "      <td>0</td>\n",
              "    </tr>\n",
              "    <tr>\n",
              "      <th>16805</th>\n",
              "      <td>43</td>\n",
              "      <td>4166.0</td>\n",
              "      <td>4166.0</td>\n",
              "      <td>4216.0</td>\n",
              "      <td>4166.0</td>\n",
              "      <td>4166.0</td>\n",
              "      <td>4166.0</td>\n",
              "      <td>0</td>\n",
              "      <td>0</td>\n",
              "      <td>0</td>\n",
              "      <td>1</td>\n",
              "      <td>0</td>\n",
              "      <td>0</td>\n",
              "      <td>0</td>\n",
              "      <td>16806</td>\n",
              "      <td>50000.0</td>\n",
              "      <td>0</td>\n",
              "      <td>0</td>\n",
              "      <td>1</td>\n",
              "      <td>0</td>\n",
              "      <td>1</td>\n",
              "      <td>0</td>\n",
              "      <td>0</td>\n",
              "      <td>0</td>\n",
              "      <td>0</td>\n",
              "      <td>0</td>\n",
              "      <td>0</td>\n",
              "      <td>0</td>\n",
              "      <td>0</td>\n",
              "      <td>0</td>\n",
              "      <td>0</td>\n",
              "      <td>1</td>\n",
              "      <td>0</td>\n",
              "      <td>0</td>\n",
              "      <td>0</td>\n",
              "      <td>0</td>\n",
              "      <td>0</td>\n",
              "      <td>0</td>\n",
              "      <td>0</td>\n",
              "      <td>0</td>\n",
              "      <td>0</td>\n",
              "      <td>0</td>\n",
              "      <td>1</td>\n",
              "      <td>0</td>\n",
              "      <td>0</td>\n",
              "      <td>0</td>\n",
              "      <td>0</td>\n",
              "      <td>0</td>\n",
              "      <td>0</td>\n",
              "      <td>0</td>\n",
              "      <td>0</td>\n",
              "      <td>0</td>\n",
              "      <td>0</td>\n",
              "      <td>0</td>\n",
              "      <td>0</td>\n",
              "      <td>1</td>\n",
              "      <td>0</td>\n",
              "      <td>0</td>\n",
              "      <td>0</td>\n",
              "      <td>0</td>\n",
              "      <td>0</td>\n",
              "      <td>0</td>\n",
              "      <td>0</td>\n",
              "      <td>0</td>\n",
              "      <td>1</td>\n",
              "      <td>0</td>\n",
              "      <td>0</td>\n",
              "      <td>0</td>\n",
              "      <td>0</td>\n",
              "      <td>0</td>\n",
              "      <td>0</td>\n",
              "      <td>0</td>\n",
              "      <td>0</td>\n",
              "      <td>0</td>\n",
              "      <td>1</td>\n",
              "      <td>0</td>\n",
              "      <td>0</td>\n",
              "      <td>0</td>\n",
              "      <td>0</td>\n",
              "      <td>0</td>\n",
              "      <td>0</td>\n",
              "      <td>0</td>\n",
              "      <td>0</td>\n",
              "      <td>0</td>\n",
              "      <td>4166.0</td>\n",
              "      <td>4216.0</td>\n",
              "      <td>4116.0</td>\n",
              "      <td>4166.0</td>\n",
              "      <td>4166.0</td>\n",
              "      <td>4166.0</td>\n",
              "      <td>1</td>\n",
              "      <td>0</td>\n",
              "      <td>0</td>\n",
              "    </tr>\n",
              "    <tr>\n",
              "      <th>3519</th>\n",
              "      <td>34</td>\n",
              "      <td>383973.0</td>\n",
              "      <td>380082.0</td>\n",
              "      <td>389694.0</td>\n",
              "      <td>342198.0</td>\n",
              "      <td>344808.0</td>\n",
              "      <td>347188.0</td>\n",
              "      <td>0</td>\n",
              "      <td>0</td>\n",
              "      <td>1</td>\n",
              "      <td>0</td>\n",
              "      <td>0</td>\n",
              "      <td>0</td>\n",
              "      <td>0</td>\n",
              "      <td>3520</td>\n",
              "      <td>550000.0</td>\n",
              "      <td>0</td>\n",
              "      <td>1</td>\n",
              "      <td>0</td>\n",
              "      <td>0</td>\n",
              "      <td>0</td>\n",
              "      <td>0</td>\n",
              "      <td>1</td>\n",
              "      <td>0</td>\n",
              "      <td>0</td>\n",
              "      <td>0</td>\n",
              "      <td>0</td>\n",
              "      <td>0</td>\n",
              "      <td>0</td>\n",
              "      <td>0</td>\n",
              "      <td>0</td>\n",
              "      <td>0</td>\n",
              "      <td>0</td>\n",
              "      <td>1</td>\n",
              "      <td>0</td>\n",
              "      <td>0</td>\n",
              "      <td>0</td>\n",
              "      <td>0</td>\n",
              "      <td>0</td>\n",
              "      <td>0</td>\n",
              "      <td>0</td>\n",
              "      <td>0</td>\n",
              "      <td>0</td>\n",
              "      <td>0</td>\n",
              "      <td>1</td>\n",
              "      <td>0</td>\n",
              "      <td>0</td>\n",
              "      <td>0</td>\n",
              "      <td>0</td>\n",
              "      <td>0</td>\n",
              "      <td>0</td>\n",
              "      <td>0</td>\n",
              "      <td>0</td>\n",
              "      <td>0</td>\n",
              "      <td>0</td>\n",
              "      <td>1</td>\n",
              "      <td>0</td>\n",
              "      <td>0</td>\n",
              "      <td>0</td>\n",
              "      <td>0</td>\n",
              "      <td>0</td>\n",
              "      <td>0</td>\n",
              "      <td>0</td>\n",
              "      <td>0</td>\n",
              "      <td>0</td>\n",
              "      <td>0</td>\n",
              "      <td>1</td>\n",
              "      <td>0</td>\n",
              "      <td>0</td>\n",
              "      <td>0</td>\n",
              "      <td>0</td>\n",
              "      <td>0</td>\n",
              "      <td>0</td>\n",
              "      <td>0</td>\n",
              "      <td>0</td>\n",
              "      <td>0</td>\n",
              "      <td>1</td>\n",
              "      <td>0</td>\n",
              "      <td>0</td>\n",
              "      <td>0</td>\n",
              "      <td>0</td>\n",
              "      <td>0</td>\n",
              "      <td>0</td>\n",
              "      <td>0</td>\n",
              "      <td>15000.0</td>\n",
              "      <td>20000.0</td>\n",
              "      <td>20000.0</td>\n",
              "      <td>12000.0</td>\n",
              "      <td>12000.0</td>\n",
              "      <td>13000.0</td>\n",
              "      <td>0</td>\n",
              "      <td>1</td>\n",
              "      <td>0</td>\n",
              "    </tr>\n",
              "  </tbody>\n",
              "</table>\n",
              "</div>\n",
              "      <button class=\"colab-df-convert\" onclick=\"convertToInteractive('df-6746708c-ec28-4802-bdb6-02c2d32d2c22')\"\n",
              "              title=\"Convert this dataframe to an interactive table.\"\n",
              "              style=\"display:none;\">\n",
              "        \n",
              "  <svg xmlns=\"http://www.w3.org/2000/svg\" height=\"24px\"viewBox=\"0 0 24 24\"\n",
              "       width=\"24px\">\n",
              "    <path d=\"M0 0h24v24H0V0z\" fill=\"none\"/>\n",
              "    <path d=\"M18.56 5.44l.94 2.06.94-2.06 2.06-.94-2.06-.94-.94-2.06-.94 2.06-2.06.94zm-11 1L8.5 8.5l.94-2.06 2.06-.94-2.06-.94L8.5 2.5l-.94 2.06-2.06.94zm10 10l.94 2.06.94-2.06 2.06-.94-2.06-.94-.94-2.06-.94 2.06-2.06.94z\"/><path d=\"M17.41 7.96l-1.37-1.37c-.4-.4-.92-.59-1.43-.59-.52 0-1.04.2-1.43.59L10.3 9.45l-7.72 7.72c-.78.78-.78 2.05 0 2.83L4 21.41c.39.39.9.59 1.41.59.51 0 1.02-.2 1.41-.59l7.78-7.78 2.81-2.81c.8-.78.8-2.07 0-2.86zM5.41 20L4 18.59l7.72-7.72 1.47 1.35L5.41 20z\"/>\n",
              "  </svg>\n",
              "      </button>\n",
              "      \n",
              "  <style>\n",
              "    .colab-df-container {\n",
              "      display:flex;\n",
              "      flex-wrap:wrap;\n",
              "      gap: 12px;\n",
              "    }\n",
              "\n",
              "    .colab-df-convert {\n",
              "      background-color: #E8F0FE;\n",
              "      border: none;\n",
              "      border-radius: 50%;\n",
              "      cursor: pointer;\n",
              "      display: none;\n",
              "      fill: #1967D2;\n",
              "      height: 32px;\n",
              "      padding: 0 0 0 0;\n",
              "      width: 32px;\n",
              "    }\n",
              "\n",
              "    .colab-df-convert:hover {\n",
              "      background-color: #E2EBFA;\n",
              "      box-shadow: 0px 1px 2px rgba(60, 64, 67, 0.3), 0px 1px 3px 1px rgba(60, 64, 67, 0.15);\n",
              "      fill: #174EA6;\n",
              "    }\n",
              "\n",
              "    [theme=dark] .colab-df-convert {\n",
              "      background-color: #3B4455;\n",
              "      fill: #D2E3FC;\n",
              "    }\n",
              "\n",
              "    [theme=dark] .colab-df-convert:hover {\n",
              "      background-color: #434B5C;\n",
              "      box-shadow: 0px 1px 3px 1px rgba(0, 0, 0, 0.15);\n",
              "      filter: drop-shadow(0px 1px 2px rgba(0, 0, 0, 0.3));\n",
              "      fill: #FFFFFF;\n",
              "    }\n",
              "  </style>\n",
              "\n",
              "      <script>\n",
              "        const buttonEl =\n",
              "          document.querySelector('#df-6746708c-ec28-4802-bdb6-02c2d32d2c22 button.colab-df-convert');\n",
              "        buttonEl.style.display =\n",
              "          google.colab.kernel.accessAllowed ? 'block' : 'none';\n",
              "\n",
              "        async function convertToInteractive(key) {\n",
              "          const element = document.querySelector('#df-6746708c-ec28-4802-bdb6-02c2d32d2c22');\n",
              "          const dataTable =\n",
              "            await google.colab.kernel.invokeFunction('convertToInteractive',\n",
              "                                                     [key], {});\n",
              "          if (!dataTable) return;\n",
              "\n",
              "          const docLinkHtml = 'Like what you see? Visit the ' +\n",
              "            '<a target=\"_blank\" href=https://colab.research.google.com/notebooks/data_table.ipynb>data table notebook</a>'\n",
              "            + ' to learn more about interactive tables.';\n",
              "          element.innerHTML = '';\n",
              "          dataTable['output_type'] = 'display_data';\n",
              "          await google.colab.output.renderOutput(dataTable, element);\n",
              "          const docLink = document.createElement('div');\n",
              "          docLink.innerHTML = docLinkHtml;\n",
              "          element.appendChild(docLink);\n",
              "        }\n",
              "      </script>\n",
              "    </div>\n",
              "  </div>\n",
              "  "
            ]
          },
          "metadata": {},
          "execution_count": 63
        }
      ]
    },
    {
      "cell_type": "markdown",
      "source": [
        "Let's define the target and predictors lists."
      ],
      "metadata": {
        "id": "AHdJP5EjDuAC"
      }
    },
    {
      "cell_type": "code",
      "source": [
        "target_f = 'default.payment.next.month'\n",
        "predictors_f = ['AGE', 'BILL_AMT1', 'BILL_AMT2', 'BILL_AMT3', 'BILL_AMT4',\n",
        "       'BILL_AMT5', 'BILL_AMT6', 'EDUCATION_0', 'EDUCATION_1',\n",
        "       'EDUCATION_2', 'EDUCATION_3', 'EDUCATION_4', 'EDUCATION_5',\n",
        "       'EDUCATION_6', 'LIMIT_BAL', 'MARRIAGE_0', 'MARRIAGE_1',\n",
        "       'MARRIAGE_2', 'MARRIAGE_3', 'PAY_0_-1', 'PAY_0_-2', 'PAY_0_0',\n",
        "       'PAY_0_1', 'PAY_0_2', 'PAY_0_3', 'PAY_0_4', 'PAY_0_5', 'PAY_0_6',\n",
        "       'PAY_0_7', 'PAY_0_8', 'PAY_2_-1', 'PAY_2_-2', 'PAY_2_0', 'PAY_2_1',\n",
        "       'PAY_2_2', 'PAY_2_3', 'PAY_2_4', 'PAY_2_5', 'PAY_2_6', 'PAY_2_7',\n",
        "       'PAY_2_8', 'PAY_3_-1', 'PAY_3_-2', 'PAY_3_0', 'PAY_3_1', 'PAY_3_2',\n",
        "       'PAY_3_3', 'PAY_3_4', 'PAY_3_5', 'PAY_3_6', 'PAY_3_7', 'PAY_3_8',\n",
        "       'PAY_4_-1', 'PAY_4_-2', 'PAY_4_0', 'PAY_4_1', 'PAY_4_2', 'PAY_4_3',\n",
        "       'PAY_4_4', 'PAY_4_5', 'PAY_4_6', 'PAY_4_7', 'PAY_4_8', 'PAY_5_-1',\n",
        "       'PAY_5_-2', 'PAY_5_0', 'PAY_5_2', 'PAY_5_3', 'PAY_5_4', 'PAY_5_5',\n",
        "       'PAY_5_6', 'PAY_5_7', 'PAY_5_8', 'PAY_6_-1', 'PAY_6_-2', 'PAY_6_0',\n",
        "       'PAY_6_2', 'PAY_6_3', 'PAY_6_4', 'PAY_6_5', 'PAY_6_6', 'PAY_6_7',\n",
        "       'PAY_6_8', 'PAY_AMT1', 'PAY_AMT2', 'PAY_AMT3', 'PAY_AMT4',\n",
        "       'PAY_AMT5', 'PAY_AMT6', 'SEX_1', 'SEX_2']"
      ],
      "metadata": {
        "id": "2-SRAAEd4yZh"
      },
      "execution_count": null,
      "outputs": []
    },
    {
      "cell_type": "markdown",
      "source": [
        "Let's train the RandonForestClassifier using the train_fa_df data and fit function."
      ],
      "metadata": {
        "id": "K4i-g88SD2RO"
      }
    },
    {
      "cell_type": "code",
      "source": [
        "clf.fit(train_fa_df[predictors_f], train_df[target_f].values)\n"
      ],
      "metadata": {
        "colab": {
          "base_uri": "https://localhost:8080/"
        },
        "id": "mvssvn9B42os",
        "outputId": "8b13e912-8f35-4dfb-b09b-25b525900f72"
      },
      "execution_count": null,
      "outputs": [
        {
          "output_type": "execute_result",
          "data": {
            "text/plain": [
              "RandomForestClassifier(n_jobs=4, random_state=2018, verbose=False)"
            ]
          },
          "metadata": {},
          "execution_count": 65
        }
      ]
    },
    {
      "cell_type": "markdown",
      "source": [
        "Let's now predict the target values for the val_df data, using predict function."
      ],
      "metadata": {
        "id": "-0kRY_qzD-IB"
      }
    },
    {
      "cell_type": "code",
      "source": [
        "preds = clf.predict(val_fa_df[predictors_f])"
      ],
      "metadata": {
        "id": "QcZ0pS8J46Rw"
      },
      "execution_count": null,
      "outputs": []
    },
    {
      "cell_type": "markdown",
      "source": [
        "Let's also visualize the features importance.\n",
        "\n",
        "Features importance"
      ],
      "metadata": {
        "id": "tt51N8dzECH8"
      }
    },
    {
      "cell_type": "code",
      "source": [
        "tmp = pd.DataFrame({'Feature': predictors_f, 'Feature importance': clf.feature_importances_})\n",
        "tmp = tmp.sort_values(by='Feature importance',ascending=False)\n",
        "plt.figure(figsize = (16,4))\n",
        "plt.title('Features importance',fontsize=14)\n",
        "s = sns.barplot(x='Feature',y='Feature importance',data=tmp)\n",
        "s.set_xticklabels(s.get_xticklabels(),rotation=90)\n",
        "plt.show()\n"
      ],
      "metadata": {
        "colab": {
          "base_uri": "https://localhost:8080/",
          "height": 356
        },
        "id": "uZVzxXGE4_Ml",
        "outputId": "0245756a-5cbc-42d6-896a-7d1a591f23fd"
      },
      "execution_count": null,
      "outputs": [
        {
          "output_type": "display_data",
          "data": {
            "text/plain": [
              "<Figure size 1152x288 with 1 Axes>"
            ],
            "image/png": "[encoded data removed]"
          },
          "metadata": {
            "needs_background": "light"
          }
        }
      ]
    },
    {
      "cell_type": "markdown",
      "source": [
        "The most important features are AGE, LIMIT_BAL, BILL_AMT1, PAY_0_2, BILL_AMT2, BILL_AMT3."
      ],
      "metadata": {
        "id": "0rOvIhgTEI75"
      }
    },
    {
      "cell_type": "markdown",
      "source": [
        "Confusion matrix\n",
        "\n",
        "Let's show a confusion matrix for the results we obtained."
      ],
      "metadata": {
        "id": "NR_R8S_QENz3"
      }
    },
    {
      "cell_type": "code",
      "source": [
        "cm = pd.crosstab(val_fa_df[target].values, preds, rownames=['Actual'], colnames=['Predicted'])\n",
        "fig, (ax1) = plt.subplots(ncols=1, figsize=(5,5))\n",
        "sns.heatmap(cm, \n",
        "            xticklabels=['Not Default', 'Default'],\n",
        "            yticklabels=['Not Default', 'Default'],\n",
        "            annot=True,ax=ax1,\n",
        "            linewidths=.2,linecolor=\"Darkblue\", cmap=\"Blues\")\n",
        "plt.title('Confusion Matrix', fontsize=14)\n",
        "plt.show()\n"
      ],
      "metadata": {
        "colab": {
          "base_uri": "https://localhost:8080/",
          "height": 351
        },
        "id": "kQASvTY65CgJ",
        "outputId": "c25465e3-c72e-4bf5-fbfc-fdcaf311ac4f"
      },
      "execution_count": null,
      "outputs": [
        {
          "output_type": "display_data",
          "data": {
            "text/plain": [
              "<Figure size 360x360 with 2 Axes>"
            ],
            "image/png": "[encoded data removed]"
          },
          "metadata": {
            "needs_background": "light"
          }
        }
      ]
    },
    {
      "cell_type": "markdown",
      "source": [
        "We also calculate area under curve (receiver operator characteristic)"
      ],
      "metadata": {
        "id": "jB53r4WyEUr_"
      }
    },
    {
      "cell_type": "code",
      "source": [
        "roc_auc_score(val_fa_df[target].values, preds)"
      ],
      "metadata": {
        "colab": {
          "base_uri": "https://localhost:8080/"
        },
        "id": "zn3xyf5p5Hk_",
        "outputId": "85e1c04e-e495-4657-f3f5-58d113c53a04"
      },
      "execution_count": null,
      "outputs": [
        {
          "output_type": "execute_result",
          "data": {
            "text/plain": [
              "0.6667660736878931"
            ]
          },
          "metadata": {},
          "execution_count": 69
        }
      ]
    },
    {
      "cell_type": "markdown",
      "source": [
        "AdaBoostClassifier\n",
        "\n",
        "AdaBoostClassifier stands for Adaptive Boosting Classifier [5].\n",
        "\n",
        "Prepare the model\n",
        "Let's set the parameters for the model and initialize the model."
      ],
      "metadata": {
        "id": "UHV5qvFwEa38"
      }
    },
    {
      "cell_type": "code",
      "source": [
        "clf = AdaBoostClassifier(random_state=RANDOM_STATE,\n",
        "                         algorithm='SAMME.R',\n",
        "                         learning_rate=0.8,\n",
        "                             n_estimators=NUM_ESTIMATORS)\n"
      ],
      "metadata": {
        "id": "oSYO2FZK5K1J"
      },
      "execution_count": null,
      "outputs": []
    },
    {
      "cell_type": "code",
      "source": [
        "clf = AdaBoostClassifier(random_state=RANDOM_STATE,\n",
        "                         algorithm='SAMME.R',\n",
        "                         learning_rate=0.8,\n",
        "                             n_estimators=NUM_ESTIMATORS)\n"
      ],
      "metadata": {
        "id": "PQUM0J5v5OcH"
      },
      "execution_count": null,
      "outputs": []
    },
    {
      "cell_type": "markdown",
      "source": [
        "XGBoost\n",
        "\n",
        "XGBoost is a gradient boosting algorithm [7].\n",
        "\n",
        "Let's prepare the model.\n",
        "\n",
        "Prepare the model\n",
        "We initialize the DMatrix objects for training and validation, starting from the datasets. We also set some of the parameters used for the model tuning."
      ],
      "metadata": {
        "id": "vpxs_7CiEueI"
      }
    },
    {
      "cell_type": "code",
      "source": [
        "# Prepare the train and valid datasets\n",
        "dtrain = xgb.DMatrix(train_df[predictors], train_df[target].values)\n",
        "dvalid = xgb.DMatrix(val_df[predictors], val_df[target].values)\n",
        "\n",
        "#What to monitor (in this case, **train** and **valid**)\n",
        "watchlist = [(dtrain, 'train'), (dvalid, 'valid')]\n",
        "\n",
        "# Set xgboost parameters\n",
        "params = {}\n",
        "params['objective'] = 'binary:logistic'\n",
        "params['eta'] = 0.039\n",
        "params['silent'] = True\n",
        "params['max_depth'] = 2\n",
        "params['subsample'] = 0.8\n",
        "params['colsample_bytree'] = 0.9\n",
        "params['eval_metric'] = 'auc'\n",
        "params['random_state'] = RANDOM_STATE\n",
        "\n"
      ],
      "metadata": {
        "id": "1wtkWXSO5UoS"
      },
      "execution_count": null,
      "outputs": []
    },
    {
      "cell_type": "markdown",
      "source": [
        "Train the model\n",
        "\n",
        "Let's train the model."
      ],
      "metadata": {
        "id": "sY7lmGP8E1J5"
      }
    },
    {
      "cell_type": "code",
      "source": [
        "model = xgb.train(params, \n",
        "                dtrain, \n",
        "                MAX_ROUNDS, \n",
        "                watchlist, \n",
        "                early_stopping_rounds=EARLY_STOP, \n",
        "                maximize=True, \n",
        "                verbose_eval=VERBOSE_EVAL)\n"
      ],
      "metadata": {
        "colab": {
          "base_uri": "https://localhost:8080/"
        },
        "id": "wECsAUJL5Ypv",
        "outputId": "e1d6dd0f-7617-4877-8be3-dfb54e1bf009"
      },
      "execution_count": null,
      "outputs": [
        {
          "output_type": "stream",
          "name": "stdout",
          "text": [
            "[0]\ttrain-auc:0.692283\tvalid-auc:0.697638\n",
            "Multiple eval metrics have been passed: 'valid-auc' will be used for early stopping.\n",
            "\n",
            "Will train until valid-auc hasn't improved in 50 rounds.\n",
            "[50]\ttrain-auc:0.768764\tvalid-auc:0.764403\n",
            "[100]\ttrain-auc:0.776938\tvalid-auc:0.772309\n",
            "[150]\ttrain-auc:0.783185\tvalid-auc:0.77696\n",
            "[200]\ttrain-auc:0.786895\tvalid-auc:0.77855\n",
            "[250]\ttrain-auc:0.789723\tvalid-auc:0.779561\n",
            "[300]\ttrain-auc:0.792111\tvalid-auc:0.780232\n",
            "[350]\ttrain-auc:0.794443\tvalid-auc:0.781005\n",
            "[400]\ttrain-auc:0.796466\tvalid-auc:0.781496\n",
            "[450]\ttrain-auc:0.798303\tvalid-auc:0.781885\n",
            "[500]\ttrain-auc:0.799942\tvalid-auc:0.781776\n",
            "Stopping. Best iteration:\n",
            "[469]\ttrain-auc:0.799017\tvalid-auc:0.782039\n",
            "\n"
          ]
        }
      ]
    },
    {
      "cell_type": "markdown",
      "source": [
        "The best validation score (ROC-AUC) was 0.78, for round 453."
      ],
      "metadata": {
        "id": "NbkNwXYYE7I9"
      }
    },
    {
      "cell_type": "markdown",
      "source": [
        "Plot variable importance"
      ],
      "metadata": {
        "id": "AfvLZ3lgE_o9"
      }
    },
    {
      "cell_type": "code",
      "source": [
        "fig, (ax) = plt.subplots(ncols=1, figsize=(8,5))\n",
        "xgb.plot_importance(model, height=0.8, title=\"Features importance (XGBoost)\", ax=ax, color=\"green\") \n",
        "plt.show()\n"
      ],
      "metadata": {
        "colab": {
          "base_uri": "https://localhost:8080/",
          "height": 350
        },
        "id": "XGo3hUUt6pBZ",
        "outputId": "c903407d-fc09-44f8-d6b2-587c11b2a729"
      },
      "execution_count": null,
      "outputs": [
        {
          "output_type": "display_data",
          "data": {
            "text/plain": [
              "<Figure size 576x360 with 1 Axes>"
            ],
            "image/png": "[encoded data removed]"
          },
          "metadata": {
            "needs_background": "light"
          }
        }
      ]
    },
    {
      "cell_type": "markdown",
      "source": [
        "LightGBM\n",
        "\n",
        "Let's continue with another gradient boosting algorithm, LightGBM [7] [8].\n",
        "\n",
        "Define model parameters\n",
        "Let's set the parameters for the model"
      ],
      "metadata": {
        "id": "6gbUacFfFEiK"
      }
    },
    {
      "cell_type": "code",
      "source": [
        "params = {\n",
        "          'boosting_type': 'gbdt',\n",
        "          'objective': 'binary',\n",
        "          'metric':'auc',\n",
        "          'learning_rate': 0.05,\n",
        "          'num_leaves': 7,  # we should let it be smaller than 2^(max_depth)\n",
        "          'max_depth': 4,  # -1 means no limit\n",
        "          'min_child_samples': 100,  # Minimum number of data need in a child(min_data_in_leaf)\n",
        "          'max_bin': 100,  # Number of bucketed bin for feature values\n",
        "          'subsample': 0.9,  # Subsample ratio of the training instance.\n",
        "          'subsample_freq': 1,  # frequence of subsample, <=0 means no enable\n",
        "          'colsample_bytree': 0.7,  # Subsample ratio of columns when constructing each tree.\n",
        "          'min_child_weight': 0,  # Minimum sum of instance weight(hessian) needed in a child(leaf)\n",
        "          'min_split_gain': 0,  # lambda_l1, lambda_l2 and min_gain_to_split to regularization\n",
        "          'nthread': 8,\n",
        "          'verbose': 0,\n",
        "          'scale_pos_weight':50, # because training data is sightly unbalanced \n",
        "         }"
      ],
      "metadata": {
        "id": "6kVo8NVH6w4t"
      },
      "execution_count": null,
      "outputs": []
    },
    {
      "cell_type": "markdown",
      "source": [
        "Prepare the model\n",
        "\n",
        "Let's define the categorical features"
      ],
      "metadata": {
        "id": "rS7skWklFLEP"
      }
    },
    {
      "cell_type": "code",
      "source": [
        "categorical_features = ['SEX', 'EDUCATION', 'MARRIAGE','PAY_0', 'PAY_2', 'PAY_3', 'PAY_4', 'PAY_5', 'PAY_6']\n"
      ],
      "metadata": {
        "id": "3sgnMpOZ61aU"
      },
      "execution_count": null,
      "outputs": []
    },
    {
      "cell_type": "markdown",
      "source": [
        "Let's prepare the model, creating the Datasets data structures from the train and validation sets.\n",
        "\n",
        "We will also initialize the Datasets with the list of the categorical features (lgb has a special treatment for categorical values)."
      ],
      "metadata": {
        "id": "XAxuaWMSFRpA"
      }
    },
    {
      "cell_type": "code",
      "source": [
        "dtrain = lgb.Dataset(train_df[predictors].values, \n",
        "                     label=train_df[target].values,\n",
        "                     feature_name=predictors,\n",
        "                     categorical_feature=categorical_features)\n",
        "\n",
        "dvalid = lgb.Dataset(val_df[predictors].values,\n",
        "                     label=val_df[target].values,\n",
        "                     feature_name=predictors,\n",
        "                     categorical_feature=categorical_features)\n"
      ],
      "metadata": {
        "id": "_0-TH2fX65VU"
      },
      "execution_count": null,
      "outputs": []
    },
    {
      "cell_type": "markdown",
      "source": [
        "Run the model\n",
        "\n",
        "Let's run the model, using the train function"
      ],
      "metadata": {
        "id": "Hn2lOAFaFWgh"
      }
    },
    {
      "cell_type": "code",
      "source": [
        "evals_results = {}\n",
        "\n",
        "model = lgb.train(params, \n",
        "                  dtrain, \n",
        "                  valid_sets=[dtrain, dvalid], \n",
        "                  valid_names=['train','valid'], \n",
        "                  evals_result=evals_results, \n",
        "                  num_boost_round=MAX_ROUNDS,\n",
        "                  early_stopping_rounds=EARLY_STOP,\n",
        "                  verbose_eval=VERBOSE_EVAL, \n",
        "                  feval=None)\n",
        "\n",
        "del dvalid\n",
        "gc.collect()\n"
      ],
      "metadata": {
        "colab": {
          "base_uri": "https://localhost:8080/"
        },
        "id": "hrPe61QL686Z",
        "outputId": "bd781711-ec40-4c2e-f6fa-c5d89bd83dbc"
      },
      "execution_count": null,
      "outputs": [
        {
          "output_type": "stream",
          "name": "stderr",
          "text": [
            "/usr/local/lib/python3.7/dist-packages/lightgbm/basic.py:1205: UserWarning: Using categorical_feature in Dataset.\n",
            "  warnings.warn('Using categorical_feature in Dataset.')\n",
            "/usr/local/lib/python3.7/dist-packages/lightgbm/basic.py:762: UserWarning: categorical_feature in param dict is overridden.\n",
            "  warnings.warn('categorical_feature in param dict is overridden.')\n"
          ]
        },
        {
          "output_type": "stream",
          "name": "stdout",
          "text": [
            "Training until validation scores don't improve for 50 rounds.\n",
            "[50]\ttrain's auc: 0.779214\tvalid's auc: 0.772758\n",
            "[100]\ttrain's auc: 0.7892\tvalid's auc: 0.782571\n",
            "[150]\ttrain's auc: 0.795255\tvalid's auc: 0.784385\n",
            "[200]\ttrain's auc: 0.799729\tvalid's auc: 0.784946\n",
            "[250]\ttrain's auc: 0.804262\tvalid's auc: 0.785893\n",
            "[300]\ttrain's auc: 0.808446\tvalid's auc: 0.785374\n",
            "Early stopping, best iteration is:\n",
            "[254]\ttrain's auc: 0.804583\tvalid's auc: 0.785996\n"
          ]
        },
        {
          "output_type": "execute_result",
          "data": {
            "text/plain": [
              "663"
            ]
          },
          "metadata": {},
          "execution_count": 82
        }
      ]
    },
    {
      "cell_type": "markdown",
      "source": [
        "Best validation score was obtained for round 265, for which AUC ~= 0.78.\n",
        "\n",
        "Let's plot variable importance."
      ],
      "metadata": {
        "id": "rD0g4H34Ffro"
      }
    },
    {
      "cell_type": "code",
      "source": [
        "fig, (ax) = plt.subplots(ncols=1, figsize=(8,5))\n",
        "lgb.plot_importance(model, height=0.8, title=\"Features importance (LightGBM)\", ax=ax,color=\"red\") \n",
        "plt.show()\n"
      ],
      "metadata": {
        "colab": {
          "base_uri": "https://localhost:8080/",
          "height": 350
        },
        "id": "WTwtouoJ7ARI",
        "outputId": "79c5176e-5963-48a4-9b00-5c787baac1ef"
      },
      "execution_count": null,
      "outputs": [
        {
          "output_type": "display_data",
          "data": {
            "text/plain": [
              "<Figure size 576x360 with 1 Axes>"
            ],
            "image/png": "[encoded data removed]"
          },
          "metadata": {
            "needs_background": "light"
          }
        }
      ]
    },
    {
      "cell_type": "markdown",
      "source": [
        "Training and validation using cross-validation\n",
        "\n",
        "Let's use now cross-validation. We will use cross-validation (KFolds) with 5 folds. Data is divided in 5 folds and, by rotation, we are training using 4 folds (n-1) and validate using the 5th (nth) fold."
      ],
      "metadata": {
        "id": "k_f7Vy4eFkxx"
      }
    },
    {
      "cell_type": "code",
      "source": [
        "kf = KFold(n_splits = NUMBER_KFOLDS, random_state = RANDOM_STATE, shuffle = True)\n",
        "for train_index, test_index in kf.split(data_df):\n",
        "    train_X, valid_X = data_df.iloc[train_index], data_df.iloc[test_index]\n",
        "\n",
        "    dtrain = lgb.Dataset(train_X[predictors].values, label=train_X[target].values,\n",
        "                     feature_name=predictors)\n",
        "\n",
        "    dvalid = lgb.Dataset(valid_X[predictors].values, label=valid_X[target].values,\n",
        "                     feature_name=predictors)\n",
        "\n",
        "    evals_results = {}\n",
        "    model =  lgb.train(params, \n",
        "                  dtrain, \n",
        "                  valid_sets=[dtrain, dvalid], \n",
        "                  valid_names=['train','valid'], \n",
        "                  evals_result=evals_results, \n",
        "                  num_boost_round=MAX_ROUNDS,\n",
        "                  early_stopping_rounds=EARLY_STOP,\n",
        "                  verbose_eval=VERBOSE_EVAL, \n",
        "                  feval=None)\n"
      ],
      "metadata": {
        "colab": {
          "base_uri": "https://localhost:8080/"
        },
        "id": "BpjxQ-WZ7FXu",
        "outputId": "99aa83fe-c5b8-47d2-e3e6-d274289a5e20"
      },
      "execution_count": null,
      "outputs": [
        {
          "output_type": "stream",
          "name": "stdout",
          "text": [
            "Training until validation scores don't improve for 50 rounds.\n",
            "[50]\ttrain's auc: 0.780056\tvalid's auc: 0.772737\n",
            "[100]\ttrain's auc: 0.788423\tvalid's auc: 0.78151\n",
            "[150]\ttrain's auc: 0.794482\tvalid's auc: 0.785206\n",
            "[200]\ttrain's auc: 0.800056\tvalid's auc: 0.786003\n",
            "Early stopping, best iteration is:\n",
            "[179]\ttrain's auc: 0.797754\tvalid's auc: 0.786358\n",
            "Training until validation scores don't improve for 50 rounds.\n",
            "[50]\ttrain's auc: 0.781038\tvalid's auc: 0.765193\n",
            "[100]\ttrain's auc: 0.790231\tvalid's auc: 0.772792\n",
            "[150]\ttrain's auc: 0.796439\tvalid's auc: 0.776192\n",
            "[200]\ttrain's auc: 0.801874\tvalid's auc: 0.77808\n",
            "[250]\ttrain's auc: 0.806362\tvalid's auc: 0.778646\n",
            "[300]\ttrain's auc: 0.810772\tvalid's auc: 0.778275\n",
            "Early stopping, best iteration is:\n",
            "[273]\ttrain's auc: 0.808364\tvalid's auc: 0.778849\n",
            "Training until validation scores don't improve for 50 rounds.\n",
            "[50]\ttrain's auc: 0.778705\tvalid's auc: 0.7804\n",
            "[100]\ttrain's auc: 0.787819\tvalid's auc: 0.788209\n",
            "[150]\ttrain's auc: 0.793608\tvalid's auc: 0.789017\n",
            "[200]\ttrain's auc: 0.798793\tvalid's auc: 0.78922\n",
            "Early stopping, best iteration is:\n",
            "[190]\ttrain's auc: 0.797764\tvalid's auc: 0.789558\n",
            "Training until validation scores don't improve for 50 rounds.\n",
            "[50]\ttrain's auc: 0.779384\tvalid's auc: 0.774166\n",
            "[100]\ttrain's auc: 0.789487\tvalid's auc: 0.780442\n",
            "[150]\ttrain's auc: 0.796037\tvalid's auc: 0.782302\n",
            "[200]\ttrain's auc: 0.801474\tvalid's auc: 0.781896\n",
            "Early stopping, best iteration is:\n",
            "[169]\ttrain's auc: 0.798499\tvalid's auc: 0.782794\n",
            "Training until validation scores don't improve for 50 rounds.\n",
            "[50]\ttrain's auc: 0.778739\tvalid's auc: 0.772636\n",
            "[100]\ttrain's auc: 0.789322\tvalid's auc: 0.781061\n",
            "[150]\ttrain's auc: 0.794813\tvalid's auc: 0.783704\n",
            "[200]\ttrain's auc: 0.799726\tvalid's auc: 0.785072\n",
            "[250]\ttrain's auc: 0.804093\tvalid's auc: 0.785651\n",
            "[300]\ttrain's auc: 0.807856\tvalid's auc: 0.785641\n",
            "[350]\ttrain's auc: 0.812009\tvalid's auc: 0.785485\n",
            "Early stopping, best iteration is:\n",
            "[311]\ttrain's auc: 0.80893\tvalid's auc: 0.785903\n"
          ]
        }
      ]
    },
    {
      "cell_type": "markdown",
      "source": [
        "The average validation AUC for the 5 folds obtained was 0.78, with values between 0.778 and 0.79."
      ],
      "metadata": {
        "id": "b3VECp_lFugB"
      }
    },
    {
      "cell_type": "markdown",
      "source": [
        "Conclusions\n",
        "\n",
        "We investigated the data, checking for data unbalancing, visualizing the features and understanding the relationship between different features.\n",
        "\n",
        "We then investigated five predictive models:\n",
        "\n",
        "We started with RandomForrestClassifier, for which we obtained an AUC scode of 0.66. For the RandomForrestClassifier we also experimented with OneHotEncoder, replacing the categorical features with dummified values (introducing one dummy variable for each category). The AUC score did not improved significantly in this case.\n",
        "Next we used an AdaBoostClassifier model, with lower AUC score (0.65).\n",
        "We followed with an CatBoostClassifier model, with lower AUC score (0.66).\n",
        "Then we experimented with a XGBoost model, for which the AUC score obtained was 0.77.\n",
        "We then presented the data to a LightGBM model. We used both train-validation split and cross-validation to evaluate the model effectiveness to predict the target value, i.e. detecting if a credit card client will default next month. With both methods for LightGBM the obtained values of AUC for the validation set were around 0.78."
      ],
      "metadata": {
        "id": "eVAqEL3jFv5O"
      }
    },
    {
      "cell_type": "code",
      "source": [
        ""
      ],
      "metadata": {
        "id": "Y0QL5yEB7Khr"
      },
      "execution_count": null,
      "outputs": []
    }
  ]
}